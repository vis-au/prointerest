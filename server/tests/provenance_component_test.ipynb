{
 "cells": [
  {
   "cell_type": "markdown",
   "source": [
    "# Testing for a doi component that analyses provenance"
   ],
   "metadata": {}
  },
  {
   "cell_type": "markdown",
   "source": [
    "## Testing the class implementation"
   ],
   "metadata": {}
  },
  {
   "cell_type": "code",
   "execution_count": 13,
   "source": [
    "import sys; sys.path.append('../') # required for relative imports in python ;)\r\n",
    "from provenance_component import *"
   ],
   "outputs": [],
   "metadata": {}
  },
  {
   "cell_type": "code",
   "execution_count": 18,
   "source": [
    "from random import randint\r\n",
    "\r\n",
    "items = 150\r\n",
    "interactions = pd.DataFrame([[i, \"brush\", np.unique([randint(0, items-1) for _ in range(0, 5)])] for i in range(100)], columns=[\"timestamp\", \"mode\", \"ids\"])\r\n",
    "interactions"
   ],
   "outputs": [
    {
     "output_type": "execute_result",
     "data": {
      "text/html": [
       "<div>\n",
       "<style scoped>\n",
       "    .dataframe tbody tr th:only-of-type {\n",
       "        vertical-align: middle;\n",
       "    }\n",
       "\n",
       "    .dataframe tbody tr th {\n",
       "        vertical-align: top;\n",
       "    }\n",
       "\n",
       "    .dataframe thead th {\n",
       "        text-align: right;\n",
       "    }\n",
       "</style>\n",
       "<table border=\"1\" class=\"dataframe\">\n",
       "  <thead>\n",
       "    <tr style=\"text-align: right;\">\n",
       "      <th></th>\n",
       "      <th>timestamp</th>\n",
       "      <th>mode</th>\n",
       "      <th>ids</th>\n",
       "    </tr>\n",
       "  </thead>\n",
       "  <tbody>\n",
       "    <tr>\n",
       "      <th>0</th>\n",
       "      <td>0</td>\n",
       "      <td>brush</td>\n",
       "      <td>[31, 38, 68, 83, 129]</td>\n",
       "    </tr>\n",
       "    <tr>\n",
       "      <th>1</th>\n",
       "      <td>1</td>\n",
       "      <td>brush</td>\n",
       "      <td>[57, 72, 87, 91, 145]</td>\n",
       "    </tr>\n",
       "    <tr>\n",
       "      <th>2</th>\n",
       "      <td>2</td>\n",
       "      <td>brush</td>\n",
       "      <td>[20, 59, 95, 110, 124]</td>\n",
       "    </tr>\n",
       "    <tr>\n",
       "      <th>3</th>\n",
       "      <td>3</td>\n",
       "      <td>brush</td>\n",
       "      <td>[3, 50, 66, 101, 130]</td>\n",
       "    </tr>\n",
       "    <tr>\n",
       "      <th>4</th>\n",
       "      <td>4</td>\n",
       "      <td>brush</td>\n",
       "      <td>[16, 25, 45, 61, 103]</td>\n",
       "    </tr>\n",
       "    <tr>\n",
       "      <th>...</th>\n",
       "      <td>...</td>\n",
       "      <td>...</td>\n",
       "      <td>...</td>\n",
       "    </tr>\n",
       "    <tr>\n",
       "      <th>95</th>\n",
       "      <td>95</td>\n",
       "      <td>brush</td>\n",
       "      <td>[44, 73, 74, 93, 106]</td>\n",
       "    </tr>\n",
       "    <tr>\n",
       "      <th>96</th>\n",
       "      <td>96</td>\n",
       "      <td>brush</td>\n",
       "      <td>[34, 58, 122, 135, 138]</td>\n",
       "    </tr>\n",
       "    <tr>\n",
       "      <th>97</th>\n",
       "      <td>97</td>\n",
       "      <td>brush</td>\n",
       "      <td>[0, 35, 88, 92, 135]</td>\n",
       "    </tr>\n",
       "    <tr>\n",
       "      <th>98</th>\n",
       "      <td>98</td>\n",
       "      <td>brush</td>\n",
       "      <td>[58, 60, 74, 100, 122]</td>\n",
       "    </tr>\n",
       "    <tr>\n",
       "      <th>99</th>\n",
       "      <td>99</td>\n",
       "      <td>brush</td>\n",
       "      <td>[16, 50, 62, 82, 91]</td>\n",
       "    </tr>\n",
       "  </tbody>\n",
       "</table>\n",
       "<p>100 rows × 3 columns</p>\n",
       "</div>"
      ],
      "text/plain": [
       "    timestamp   mode                      ids\n",
       "0           0  brush    [31, 38, 68, 83, 129]\n",
       "1           1  brush    [57, 72, 87, 91, 145]\n",
       "2           2  brush   [20, 59, 95, 110, 124]\n",
       "3           3  brush    [3, 50, 66, 101, 130]\n",
       "4           4  brush    [16, 25, 45, 61, 103]\n",
       "..        ...    ...                      ...\n",
       "95         95  brush    [44, 73, 74, 93, 106]\n",
       "96         96  brush  [34, 58, 122, 135, 138]\n",
       "97         97  brush     [0, 35, 88, 92, 135]\n",
       "98         98  brush   [58, 60, 74, 100, 122]\n",
       "99         99  brush     [16, 50, 62, 82, 91]\n",
       "\n",
       "[100 rows x 3 columns]"
      ]
     },
     "metadata": {},
     "execution_count": 18
    }
   ],
   "metadata": {}
  },
  {
   "cell_type": "code",
   "execution_count": 14,
   "source": [
    "from sklearn.datasets import load_iris\r\n",
    "from sklearn.model_selection import train_test_split\r\n",
    "X, y = load_iris(return_X_y=True)\r\n",
    "X_train, X_test, y_train, y_test = train_test_split(X, y, test_size=0.5, random_state=0)\r\n",
    "X_train = pd.DataFrame(X_train)\r\n",
    "X_test = pd.DataFrame(X_test)\r\n",
    "\r\n",
    "X_train[\"id\"] = X_train.index\r\n",
    "X_test[\"id\"] = X_test.index + len(X_train)"
   ],
   "outputs": [],
   "metadata": {}
  },
  {
   "cell_type": "code",
   "execution_count": 17,
   "source": [
    "provenance = ProvenanceComponent()\r\n",
    "\r\n",
    "for index, row in interactions.iterrows():\r\n",
    "    provenance.add_interaction(row.tolist())\r\n",
    "\r\n",
    "provenance.train(X_train)\r\n",
    "provenance.get_prediction_error(X_test).mean()"
   ],
   "outputs": [
    {
     "output_type": "execute_result",
     "data": {
      "text/plain": [
       "0.2746276474310692"
      ]
     },
     "metadata": {},
     "execution_count": 17
    }
   ],
   "metadata": {}
  }
 ],
 "metadata": {
  "kernelspec": {
   "name": "python3",
   "display_name": "Python 3.9.4 64-bit"
  },
  "language_info": {
   "codemirror_mode": {
    "name": "ipython",
    "version": 3
   },
   "file_extension": ".py",
   "mimetype": "text/x-python",
   "name": "python",
   "nbconvert_exporter": "python",
   "pygments_lexer": "ipython3",
   "version": "3.9.4"
  },
  "interpreter": {
   "hash": "63fd5069d213b44bf678585dea6b12cceca9941eaf7f819626cde1f2670de90d"
  }
 },
 "nbformat": 4,
 "nbformat_minor": 4
}