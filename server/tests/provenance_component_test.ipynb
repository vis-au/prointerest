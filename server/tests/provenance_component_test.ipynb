{
 "cells": [
  {
   "cell_type": "markdown",
   "source": [
    "# Testing for a doi component that analyses provenance"
   ],
   "metadata": {}
  },
  {
   "cell_type": "markdown",
   "source": [
    "## Testing the class implementation"
   ],
   "metadata": {}
  },
  {
   "cell_type": "code",
   "execution_count": null,
   "source": [
    "import sys; sys.path.append('../') # required for relative imports in python ;)\r\n",
    "from provenance_component import *"
   ],
   "outputs": [],
   "metadata": {}
  },
  {
   "cell_type": "code",
   "execution_count": null,
   "source": [
    "from random import randint\r\n",
    "\r\n",
    "items = 150\r\n",
    "interactions = pd.DataFrame([[i, \"brush\", np.unique([randint(0, items-1) for _ in range(0, 5)])] for i in range(100)], columns=[\"timestamp\", \"mode\", \"ids\"])\r\n",
    "interactions"
   ],
   "outputs": [],
   "metadata": {}
  },
  {
   "cell_type": "code",
   "execution_count": null,
   "source": [
    "from sklearn.datasets import load_iris\r\n",
    "from sklearn.model_selection import train_test_split\r\n",
    "X, y = load_iris(return_X_y=True)\r\n",
    "X_train, X_test, y_train, y_test = train_test_split(X, y, test_size=0.5, random_state=0)\r\n",
    "X_train = pd.DataFrame(X_train)\r\n",
    "X_test = pd.DataFrame(X_test)\r\n",
    "\r\n",
    "X_train[\"id\"] = X_train.index\r\n",
    "X_test[\"id\"] = X_test.index + len(X_train)"
   ],
   "outputs": [],
   "metadata": {}
  },
  {
   "cell_type": "code",
   "execution_count": null,
   "source": [
    "provenance = ProvenanceComponent()\r\n",
    "\r\n",
    "for index, row in interactions.iterrows():\r\n",
    "    provenance.add_interaction(row.tolist())\r\n",
    "\r\n",
    "provenance.train(X_train)\r\n",
    "provenance.get_prediction_error(X_test).mean()"
   ],
   "outputs": [],
   "metadata": {}
  }
 ],
 "metadata": {
  "kernelspec": {
   "name": "python3",
   "display_name": "Python 3.9.4 64-bit"
  },
  "language_info": {
   "codemirror_mode": {
    "name": "ipython",
    "version": 3
   },
   "file_extension": ".py",
   "mimetype": "text/x-python",
   "name": "python",
   "nbconvert_exporter": "python",
   "pygments_lexer": "ipython3",
   "version": "3.9.4"
  },
  "interpreter": {
   "hash": "63fd5069d213b44bf678585dea6b12cceca9941eaf7f819626cde1f2670de90d"
  }
 },
 "nbformat": 4,
 "nbformat_minor": 4
}