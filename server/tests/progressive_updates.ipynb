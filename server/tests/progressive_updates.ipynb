{
 "cells": [
  {
   "cell_type": "markdown",
   "metadata": {},
   "source": [
    "# Progressively Updating DOI values\n",
    "Another challenge when computing doi functions in chunks over large data is that the computed values \"age\".\n",
    "The more data we process, the more representative of the entire dataset our predictions become, which means that values computed early on may no longer be valid if they are recomputed after hundreds of iterations.\n",
    "In turn, we need a mechanism to update outdated doi values.\n",
    "\n",
    "These updates can happen in different ways:\n",
    "0. No update: User interest lies on the latest data, old interest values \"decay\" until they become 0.\n",
    "1. In regular intervals, compute the doi of old items with the next chunk.\n",
    "2. Whenever some metric exceeds a threshold, compute the doi of old items with the next chunk.\n",
    "3. Predict the interest of \"old\" items based on latest doi information (train a regression model, or use fx. interpolation between knn, or use buckets in view space quadtree)."
   ]
  },
  {
   "cell_type": "markdown",
   "metadata": {},
   "source": [
    "## Prepare the DOI function"
   ]
  },
  {
   "cell_type": "code",
   "execution_count": null,
   "metadata": {},
   "outputs": [],
   "source": [
    "import pandas as pd\n",
    "import numpy as np\n",
    "import os\n",
    "from sys import path\n",
    "cwd = os.getcwd()\n",
    "path.append(f\"{cwd}/..\")\n",
    "\n",
    "from doi_component.outlierness_component import OutliernessComponent\n",
    "\n",
    "outlierness = OutliernessComponent()\n",
    "\n",
    "def doi(X: np.ndarray):\n",
    "  df = pd.DataFrame(X)\n",
    "  return outlierness.compute_doi(df)"
   ]
  },
  {
   "cell_type": "markdown",
   "metadata": {},
   "source": [
    "## Prepare the data"
   ]
  },
  {
   "cell_type": "code",
   "execution_count": null,
   "metadata": {},
   "outputs": [],
   "source": [
    "from sklearn.datasets import make_blobs\n",
    "from storage_strategy.progressive_bin_sampler import ProgressiveBinSampler\n",
    "\n",
    "N = 10000\n",
    "features = 2\n",
    "chunk_size = 1000\n",
    "\n",
    "chunks = N // chunk_size\n",
    "\n",
    "blobs_params = {\"n_samples\": N, \"n_features\": features}\n",
    "\n",
    "X = make_blobs(centers=6, cluster_std=1, **blobs_params)[0]\n",
    "y = doi(X)\n",
    "\n",
    "sampler = ProgressiveBinSampler(n_dims=2)"
   ]
  },
  {
   "cell_type": "markdown",
   "metadata": {},
   "source": [
    "## Progressive Update Strategies"
   ]
  },
  {
   "cell_type": "markdown",
   "metadata": {},
   "source": [
    "### No Update: Decaying Interest Values"
   ]
  },
  {
   "cell_type": "code",
   "execution_count": null,
   "metadata": {},
   "outputs": [],
   "source": [
    "doi_value_chunk = np.array((0, )) # stores the chunk at which the data was first processed\n",
    "old_doi_values = np.array((0, )) # stores the original doi value from when the chunk was processed\n",
    "updated_doi_values = np.array((0, )) # stores the doi values after the update\n",
    "\n",
    "sampler.reset_reservoirs()\n",
    "\n",
    "for i in range(chunks):\n",
    "  chunk = X[i*chunk_size:(i+1)*chunk_size]\n",
    "  progressive_sample = sampler.get_current_sample()\n",
    "  X_ = np.append(progressive_sample, chunk, axis=0)\n",
    "  y_ = doi(X_)\n",
    "\n",
    "  new_doi_values = y_[-chunk_size:]\n",
    "\n",
    "  sampler.add_chunk(chunk, new_doi_values, i*chunk_size)\n",
    "  old_doi_values = np.append(old_doi_values, new_doi_values)\n",
    "  age = np.full_like(new_doi_values, fill_value=i)\n",
    "  doi_value_chunk = np.append(doi_value_chunk, age)\n",
    "\n",
    "  # \"radioactive\" decay, where the newest values remain the same\n",
    "  updated_doi_values = old_doi_values * (0.5**(i - doi_value_chunk))\n",
    "\n",
    "[(j, updated_doi_values[doi_value_chunk == j].mean()) for j in range(chunks)]"
   ]
  },
  {
   "cell_type": "markdown",
   "metadata": {},
   "source": [
    "### Recomputation: Recompute Interest Values\n",
    "Mix the \"old\" data into the computation of new values based on some decision rule."
   ]
  },
  {
   "cell_type": "markdown",
   "metadata": {},
   "source": [
    "#### Recompute in regular Intervals\n"
   ]
  },
  {
   "cell_type": "code",
   "execution_count": null,
   "metadata": {},
   "outputs": [],
   "source": [
    "from sklearn.tree import DecisionTreeRegressor\n",
    "from sklearn.neighbors import KDTree\n",
    "\n",
    "\n",
    "def neighbor_based_approximation_update(i, chunk, X_sample, y_sample, doi_f, doi_values, doi_value_chunk):\n",
    "  X_ = np.append(X_sample, chunk, axis=0)\n",
    "  y_ = doi_f(X_)\n",
    "\n",
    "  new_doi_values = y_[-chunk_size:]\n",
    "  all_doi_values = np.append(doi_values, new_doi_values)\n",
    "\n",
    "  kdtree = KDTree(X_)\n",
    "\n",
    "  if i > 0:\n",
    "    # find knn in chunk for all points not in chunk\n",
    "    knn = kdtree.query(X[:i*chunk_size], return_distance=False).reshape(-1, )\n",
    "    all_doi_values[:i*chunk_size] = y_[knn] # return type of query is odd\n",
    "\n",
    "  return all_doi_values, new_doi_values\n",
    "\n",
    "\n",
    "def tree_prediction_based_update(i, chunk, X_sample, y_sample, doi_f, doi_values, doi_value_chunk):\n",
    "  tree = DecisionTreeRegressor()\n",
    "  y_ = doi_f(chunk)\n",
    "\n",
    "  if i > 0:\n",
    "    tree.fit(X_sample, y_sample)\n",
    "    y2 = tree.predict(chunk)\n",
    "    y_ = np.mean([y_, y2], axis=0)\n",
    "\n",
    "  new_doi_values = y_\n",
    "  all_doi_values = np.append(doi_values, new_doi_values)\n",
    "\n",
    "  return all_doi_values, new_doi_values\n",
    "\n",
    "\n",
    "def regular_interval_based_update(i, chunk, X_sample, y_sample, doi_f, doi_values, doi_value_chunk):\n",
    "  sample_size = len(X_sample)\n",
    "  X_ = np.append(X_sample, chunk, axis=0)\n",
    "\n",
    "  # add all chunks that haven't been updated in the last max_age iterations:\n",
    "  added_index = {}\n",
    "  for j in range(i):\n",
    "    if j % max_age == 0:\n",
    "      added_index[j] = len(X_) # store the beginning index for this chunk to find it later\n",
    "      X_ = np.append(X_, X[j*chunk_size:(j+1)*chunk_size], axis=0)\n",
    "\n",
    "  y_ = doi_f(X_)\n",
    "\n",
    "  new_doi_values = y_[sample_size:sample_size + chunk_size]\n",
    "\n",
    "  all_doi_values = np.append(doi_values, new_doi_values)\n",
    "\n",
    "  age = np.full_like(new_doi_values, fill_value=i)\n",
    "  my_doi_value_chunk = np.append(doi_value_chunk, age)\n",
    "\n",
    "  for j in range(1, i):\n",
    "    if j % max_age == 0:\n",
    "      index = added_index[j]\n",
    "      all_doi_values[my_doi_value_chunk == j] = y_[index:index+chunk_size]\n",
    "\n",
    "  return all_doi_values, new_doi_values\n",
    "\n",
    "\n",
    "\n",
    "strategies = [\n",
    "  (\"KDTree-based update\", neighbor_based_approximation_update),\n",
    "  (\"RegressionTree-based update\", tree_prediction_based_update),\n",
    "  (\"Interval-based update\", regular_interval_based_update)\n",
    "]\n",
    "\n",
    "max_age = 2 # update the doi of each chunk every max_age iterations\n",
    "\n",
    "\n",
    "for strat in strategies:\n",
    "  doi_value_chunk = np.array((0, )) # stores the chunk at which the data was seen first\n",
    "  updated_doi_values = np.array((0, )) # stores the doi values after the update\n",
    "\n",
    "  sampler.reset_reservoirs()\n",
    "\n",
    "  for i in range(chunks):\n",
    "    chunk = X[i*chunk_size:(i+1)*chunk_size]\n",
    "    X_sample, y_sample = sampler.get_current_sample(return_labels=True)\n",
    "\n",
    "    updated_doi_values, new_doi_values = strat[1](i, chunk, X_sample, y_sample, doi, updated_doi_values, doi_value_chunk)\n",
    "\n",
    "    sampler.add_chunk(chunk, new_doi_values, i*chunk_size)\n",
    "\n",
    "    # save the iteration at which an item was retrieved\n",
    "    age = np.full_like(new_doi_values, fill_value=i)\n",
    "    doi_value_chunk = np.append(doi_value_chunk, age)\n",
    "\n",
    "  print(strat[0])\n",
    "  print(np.array([(j, updated_doi_values[doi_value_chunk == j].mean()) for j in range(chunks)]))"
   ]
  },
  {
   "cell_type": "code",
   "execution_count": null,
   "metadata": {},
   "outputs": [],
   "source": [
    "doi_value_chunk = np.array((0, )) # stores the chunk at which the data was seen first\n",
    "updated_doi_values = np.array((0, )) # stores the doi values after the update\n",
    "\n",
    "max_age = 2 # update the doi of each chunk every max_age iterations\n",
    "\n",
    "sampler.reset_reservoirs()\n",
    "\n",
    "for i in range(chunks):\n",
    "  chunk = X[i*chunk_size:(i+1)*chunk_size]\n",
    "  progressive_sample = sampler.get_current_sample()\n",
    "  sample_size = len(progressive_sample)\n",
    "  X_ = np.append(progressive_sample, chunk, axis=0)\n",
    "\n",
    "  # add all chunks that haven't been updated in the last max_age iterations:\n",
    "  added_index = {}\n",
    "  for j in range(i):\n",
    "    if j % max_age == 0:\n",
    "      added_index[j] = len(X_) # store the beginning index for this chunk to find it later\n",
    "      X_ = np.append(X_, X[j*chunk_size:(j+1)*chunk_size], axis=0)\n",
    "\n",
    "  y_ = doi(X_)\n",
    "\n",
    "  new_doi_values = y_[sample_size:sample_size + chunk_size]\n",
    "\n",
    "  sampler.add_chunk(chunk, new_doi_values, i*chunk_size)\n",
    "  updated_doi_values = np.append(updated_doi_values, new_doi_values)\n",
    "\n",
    "  age = np.full_like(new_doi_values, fill_value=i)\n",
    "  doi_value_chunk = np.append(doi_value_chunk, age)\n",
    "\n",
    "  for j in range(1, i):\n",
    "    if j % max_age == 0:\n",
    "      index = added_index[j]\n",
    "      updated_doi_values[doi_value_chunk == j] = y_[index:index+chunk_size]\n",
    "\n",
    "[(j, updated_doi_values[doi_value_chunk == j].mean()) for j in range(chunks)]"
   ]
  },
  {
   "cell_type": "markdown",
   "metadata": {},
   "source": [
    "#### Recompute based on a Bin-based Metric"
   ]
  },
  {
   "cell_type": "code",
   "execution_count": null,
   "metadata": {},
   "outputs": [],
   "source": [
    "doi_value_chunk = np.array((0, )) # stores the chunk at which the data was seen first\n",
    "updated_doi_values = np.array((0, )) # stores the doi values after the update\n",
    "\n",
    "sampler.reset_reservoirs()\n",
    "\n",
    "for i in range(chunks):\n",
    "  chunk = X[i*chunk_size:(i+1)*chunk_size]\n",
    "  progressive_sample = sampler.get_current_sample()\n",
    "  X_ = np.append(progressive_sample, chunk, axis=0)\n",
    "  y_ = doi(X_)\n",
    "\n",
    "  # TODO: compute the per-bin mean\n",
    "  # TODO: detect mean shift per bin\n",
    "  # TODO: find all items that belong to this bin and add them to the recomputation\n",
    "  # TODO: update the doi of all items that were affected by that metric\n",
    "\n",
    "  new_doi_values = y_[-chunk_size:]\n",
    "\n",
    "  sampler.add_chunk(chunk, new_doi_values, i*chunk_size)\n",
    "  age = np.full_like(new_doi_values, fill_value=i)\n",
    "  doi_value_chunk = np.append(doi_value_chunk, age)\n",
    "  updated_doi_values = np.append(updated_doi_values, new_doi_values)\n",
    "\n",
    "[(j, updated_doi_values[doi_value_chunk == j].mean()) for j in range(chunks)]"
   ]
  },
  {
   "cell_type": "markdown",
   "metadata": {},
   "source": [
    "### Prediction-based: Estimate previous Interest Values from latest Results"
   ]
  },
  {
   "cell_type": "markdown",
   "metadata": {},
   "source": [
    "Option 1: Use nearest neighbor in KDTree"
   ]
  },
  {
   "cell_type": "code",
   "execution_count": null,
   "metadata": {},
   "outputs": [],
   "source": [
    "from sklearn.neighbors import KDTree\n",
    "\n",
    "doi_value_chunk = np.array((0, )) # stores the chunk at which the data was seen first\n",
    "updated_doi_values = np.array((0, )) # stores the doi values after the update\n",
    "\n",
    "sampler.reset_reservoirs()\n",
    "\n",
    "for i in range(chunks):\n",
    "  chunk = X[i*chunk_size:(i+1)*chunk_size]\n",
    "  progressive_sample = sampler.get_current_sample()\n",
    "  X_ = np.append(progressive_sample, chunk, axis=0)\n",
    "  y_ = doi(X_)\n",
    "\n",
    "  new_doi_values = y_[-chunk_size:]\n",
    "  updated_doi_values = np.append(updated_doi_values, new_doi_values)\n",
    "\n",
    "  kdtree = KDTree(X_)\n",
    "\n",
    "  if i > 0:\n",
    "    # find knn in chunk for all points not in chunk\n",
    "    knn = kdtree.query(X[:i*chunk_size], return_distance=False).reshape(-1, )\n",
    "    updated_doi_values[:i*chunk_size] = y_[knn] # return type of query is odd\n",
    "\n",
    "  # reservoir sample all new doi values\n",
    "  sampler.add_chunk(chunk, new_doi_values, i*chunk_size)\n",
    "  age = np.full_like(new_doi_values, fill_value=i)\n",
    "  doi_value_chunk = np.append(doi_value_chunk, age)\n",
    "\n",
    "[(j, updated_doi_values[doi_value_chunk == j].mean()) for j in range(chunks)]"
   ]
  },
  {
   "cell_type": "markdown",
   "metadata": {},
   "source": [
    "Option 2: Predict from sampled items"
   ]
  },
  {
   "cell_type": "code",
   "execution_count": null,
   "metadata": {},
   "outputs": [],
   "source": [
    "from sklearn.tree import DecisionTreeRegressor\n",
    "\n",
    "doi_value_chunk = np.array((0, )) # stores the chunk at which the data was seen first\n",
    "updated_doi_values = np.array((0, )) # stores the doi values after the update\n",
    "\n",
    "sampler.reset_reservoirs()\n",
    "tree = DecisionTreeRegressor()\n",
    "\n",
    "for i in range(chunks):\n",
    "  chunk = X[i*chunk_size:(i+1)*chunk_size]\n",
    "  y_ = doi(chunk)\n",
    "\n",
    "  if i > 0:\n",
    "    X_sample, y_sample = sampler.get_current_sample(return_labels=True)\n",
    "    tree.fit(X_sample, y_sample)\n",
    "    y2 = tree.predict(chunk)\n",
    "    y_ = np.mean([y_, y2], axis=0)\n",
    "\n",
    "  new_doi_values = y_\n",
    "  updated_doi_values = np.append(updated_doi_values, new_doi_values)\n",
    "\n",
    "  # reservoir sample all new doi values\n",
    "  sampler.add_chunk(chunk, new_doi_values, i*chunk_size)\n",
    "  age = np.full_like(new_doi_values, fill_value=i)\n",
    "  doi_value_chunk = np.append(doi_value_chunk, age)\n",
    "\n",
    "[(j, updated_doi_values[doi_value_chunk == j].mean()) for j in range(chunks)]"
   ]
  },
  {
   "cell_type": "markdown",
   "metadata": {},
   "source": [
    "## Benchmarking"
   ]
  }
 ],
 "metadata": {
  "interpreter": {
   "hash": "63fd5069d213b44bf678585dea6b12cceca9941eaf7f819626cde1f2670de90d"
  },
  "kernelspec": {
   "display_name": "Python 3.9.4 64-bit",
   "name": "python3"
  },
  "language_info": {
   "codemirror_mode": {
    "name": "ipython",
    "version": 3
   },
   "file_extension": ".py",
   "mimetype": "text/x-python",
   "name": "python",
   "nbconvert_exporter": "python",
   "pygments_lexer": "ipython3",
   "version": "3.9.4"
  },
  "orig_nbformat": 4
 },
 "nbformat": 4,
 "nbformat_minor": 2
}
