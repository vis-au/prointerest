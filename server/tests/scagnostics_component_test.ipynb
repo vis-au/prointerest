{
 "cells": [
  {
   "cell_type": "markdown",
   "source": [
    "# Scagnostics DOI Component Tests\r\n",
    "Testing the scagnostics doi component, which measures the interestingness of an item based on its impact on the different scagnostics measures: If removed from the sample of data items, how much does a particular score change?\r\n",
    "The idea is that an item that yields a high doi value in of one of the metrics would increase the overall score, while an \"uninteresting\" item would lower it.\r\n",
    "\r\n",
    "The general approach is to first compute the scagnostic measures for all items in the sample, and to then recompute for the subset that is missing each item respectively."
   ],
   "metadata": {}
  },
  {
   "cell_type": "markdown",
   "source": [
    "## Setup of the pyscagnostics package"
   ],
   "metadata": {}
  },
  {
   "cell_type": "code",
   "execution_count": null,
   "source": [
    "from pyscagnostics import scagnostics\r\n",
    "import numpy as np\r\n",
    "import pandas as pd\r\n",
    "from random import random, randint"
   ],
   "outputs": [],
   "metadata": {}
  },
  {
   "cell_type": "markdown",
   "source": [
    "## Test 1: Scagnostics on random data"
   ],
   "metadata": {}
  },
  {
   "cell_type": "markdown",
   "source": [
    "Generate a random dataset and compute its scagnostics:"
   ],
   "metadata": {}
  },
  {
   "cell_type": "code",
   "execution_count": null,
   "source": [
    "size = 1000\r\n",
    "\r\n",
    "x = np.array([random() for _ in range(size)])\r\n",
    "y = np.array([random() for _ in range(size)])\r\n",
    "\r\n",
    "measures, _ = scagnostics(x, y)\r\n",
    "measures"
   ],
   "outputs": [],
   "metadata": {}
  },
  {
   "cell_type": "markdown",
   "source": [
    "Next, exclude one \"random\" item from the dataset. Compute the scagnostics of that subset."
   ],
   "metadata": {}
  },
  {
   "cell_type": "code",
   "execution_count": null,
   "source": [
    "random_index = randint(0, size)\r\n",
    "random_index\r\n",
    "\r\n",
    "mask = np.ones(size)\r\n",
    "mask[random_index] = 0\r\n",
    "\r\n",
    "x_ = x[mask == 1]\r\n",
    "y_ = y[mask == 1]\r\n",
    "\r\n",
    "measures_, _ = scagnostics(x_, y_)\r\n",
    "measures_"
   ],
   "outputs": [],
   "metadata": {}
  },
  {
   "cell_type": "markdown",
   "source": [
    "## Test 2: Scagnostics on three-dimensional data"
   ],
   "metadata": {}
  },
  {
   "cell_type": "code",
   "execution_count": null,
   "source": [
    "# Simulate data for example\r\n",
    "x = np.random.uniform(0, 1, 10)\r\n",
    "y = np.random.uniform(0, 1, 10)\r\n",
    "z = np.random.uniform(0, 1, 10)\r\n",
    "df = pd.DataFrame({\r\n",
    "    'x': x,\r\n",
    "    'y': y,\r\n",
    "    'z': z\r\n",
    "})\r\n",
    "\r\n",
    "def compute_mean(generator):\r\n",
    "    all_results = []\r\n",
    "    for x, y, result in generator:\r\n",
    "      measures, _ = result\r\n",
    "      all_results += [measures]\r\n",
    "\r\n",
    "    return pd.DataFrame(all_results).mean()\r\n",
    "\r\n",
    "results = scagnostics(df)\r\n",
    "all_mean = compute_mean(results)\r\n",
    "    \r\n",
    "pd.DataFrame(all_mean).mean()\r\n",
    "\r\n",
    "df[df.index != 1]\r\n",
    "\r\n",
    "gens = df.apply(lambda item: scagnostics(df[df.index != item.name]), axis=1)\r\n",
    "per_item = gens.apply(lambda generator: compute_mean(generator))\r\n",
    "\r\n",
    "total = (per_item - all_mean).mean(axis=1).abs()\r\n",
    "min = total.min()\r\n",
    "max = total.max()\r\n",
    "(total - min) / (max - min)"
   ],
   "outputs": [],
   "metadata": {}
  },
  {
   "cell_type": "markdown",
   "source": [
    "## Test 3: Using the Scagnostics Module"
   ],
   "metadata": {}
  },
  {
   "cell_type": "markdown",
   "source": [
    "Next, we import the scagnostics_component that implements the doi_component interface."
   ],
   "metadata": {}
  },
  {
   "cell_type": "code",
   "execution_count": null,
   "source": [
    "import sys; sys.path.append('../') # required for relative imports in python ;)\r\n",
    "from scagnostics_component import *"
   ],
   "outputs": [],
   "metadata": {}
  },
  {
   "cell_type": "markdown",
   "source": [
    "We then generate a random dataset using blobs and measure the predictive performance of the scagnostics component."
   ],
   "metadata": {}
  },
  {
   "cell_type": "code",
   "execution_count": null,
   "source": [
    "from sklearn.datasets import make_moons, make_blobs\r\n",
    "\r\n",
    "# Example settings\r\n",
    "n_samples = 1000 # gets too slow at around 2,000 samples\r\n",
    "outliers_fraction = 0.15\r\n",
    "n_outliers = int(outliers_fraction * n_samples)\r\n",
    "n_inliers = n_samples - n_outliers\r\n",
    "\r\n",
    "# Define datasets\r\n",
    "blobs_params = dict(random_state=0, n_samples=n_inliers, n_features=2)\r\n",
    "datasets = [\r\n",
    "    make_blobs(centers=[[0, 0], [0, 0]], cluster_std=0.5,\r\n",
    "               **blobs_params)[0],\r\n",
    "    make_blobs(centers=[[2, 2], [-2, -2]], cluster_std=[0.5, 0.5],\r\n",
    "               **blobs_params)[0],\r\n",
    "    make_blobs(centers=[[2, 2], [-2, -2]], cluster_std=[1.5, .3],\r\n",
    "               **blobs_params)[0],\r\n",
    "    4. * (make_moons(n_samples=n_samples, noise=.05, random_state=0)[0] -\r\n",
    "          np.array([0.5, 0.25])),\r\n",
    "    14. * (np.random.RandomState(42).rand(n_samples, 2) - 0.5)]\r\n",
    "\r\n",
    "\r\n",
    "scagn = ScagnosticsComponent()\r\n",
    "\r\n",
    "for d in datasets:\r\n",
    "    X_train = pd.DataFrame(d[:n_samples//2, :])\r\n",
    "    X_train[\"id\"] = X_train.index\r\n",
    "    scagn.train(X_train)\r\n",
    "    print(\"done training\")\r\n",
    "    \r\n",
    "    X_test = pd.DataFrame(d[n_samples//2:, :])\r\n",
    "    X_test[\"id\"] = X_test.index\r\n",
    "    err = scagn.get_prediction_error(X_test)\r\n",
    "    print(\"mean error in prediction:\", err.mean())"
   ],
   "outputs": [],
   "metadata": {}
  }
 ],
 "metadata": {
  "kernelspec": {
   "name": "python3",
   "display_name": "Python 3.9.4 64-bit"
  },
  "language_info": {
   "codemirror_mode": {
    "name": "ipython",
    "version": 3
   },
   "file_extension": ".py",
   "mimetype": "text/x-python",
   "name": "python",
   "nbconvert_exporter": "python",
   "pygments_lexer": "ipython3",
   "version": "3.9.4"
  },
  "interpreter": {
   "hash": "63fd5069d213b44bf678585dea6b12cceca9941eaf7f819626cde1f2670de90d"
  }
 },
 "nbformat": 4,
 "nbformat_minor": 4
}