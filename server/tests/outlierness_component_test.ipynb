{
 "cells": [
  {
   "cell_type": "markdown",
   "source": [
    "# Outlierness DOI Component Tests\r\n",
    "\r\n",
    "\"Testing\" the outlierness_doi_component class (not an exhaustive unit test, but more of a playground).\r\n",
    "\r\n",
    "Below, we begin by replicating the outlierness example from the sklearn docs to get a feeling for how the different techniques perform across different types of 2d-distributions."
   ],
   "metadata": {}
  },
  {
   "cell_type": "code",
   "execution_count": null,
   "source": [
    "# from https://scikit-learn.org/stable/auto_examples/miscellaneous/plot_anomaly_comparison.html\r\n",
    "\r\n",
    "# Author: Alexandre Gramfort <alexandre.gramfort@inria.fr>\r\n",
    "#         Albert Thomas <albert.thomas@telecom-paristech.fr>\r\n",
    "# License: BSD 3 clause\r\n",
    "\r\n",
    "import time\r\n",
    "\r\n",
    "import numpy as np\r\n",
    "import matplotlib\r\n",
    "import matplotlib.pyplot as plt\r\n",
    "\r\n",
    "from sklearn import svm\r\n",
    "from sklearn.datasets import make_moons, make_blobs\r\n",
    "from sklearn.covariance import EllipticEnvelope\r\n",
    "from sklearn.ensemble import IsolationForest\r\n",
    "from sklearn.neighbors import LocalOutlierFactor\r\n",
    "\r\n",
    "print(__doc__)\r\n",
    "\r\n",
    "matplotlib.rcParams['contour.negative_linestyle'] = 'solid'\r\n",
    "\r\n",
    "# Example settings\r\n",
    "n_samples = 300\r\n",
    "outliers_fraction = 0.15\r\n",
    "n_outliers = int(outliers_fraction * n_samples)\r\n",
    "n_inliers = n_samples - n_outliers\r\n",
    "\r\n",
    "# define outlier/anomaly detection methods to be compared\r\n",
    "anomaly_algorithms = [\r\n",
    "    (\"Robust covariance\", EllipticEnvelope(contamination=outliers_fraction)),\r\n",
    "    (\"One-Class SVM\", svm.OneClassSVM(nu=outliers_fraction, kernel=\"rbf\",\r\n",
    "                                      gamma=0.1)),\r\n",
    "    (\"Isolation Forest\", IsolationForest(contamination=outliers_fraction,\r\n",
    "                                         random_state=42)),\r\n",
    "    (\"Local Outlier Factor\", LocalOutlierFactor(\r\n",
    "        n_neighbors=35, contamination=outliers_fraction))]\r\n",
    "\r\n",
    "# Define datasets\r\n",
    "blobs_params = dict(random_state=0, n_samples=n_inliers, n_features=2)\r\n",
    "datasets = [\r\n",
    "    make_blobs(centers=[[0, 0], [0, 0]], cluster_std=0.5,\r\n",
    "               **blobs_params)[0],\r\n",
    "    make_blobs(centers=[[2, 2], [-2, -2]], cluster_std=[0.5, 0.5],\r\n",
    "               **blobs_params)[0],\r\n",
    "    make_blobs(centers=[[2, 2], [-2, -2]], cluster_std=[1.5, .3],\r\n",
    "               **blobs_params)[0],\r\n",
    "    4. * (make_moons(n_samples=n_samples, noise=.05, random_state=0)[0] -\r\n",
    "          np.array([0.5, 0.25])),\r\n",
    "    14. * (np.random.RandomState(42).rand(n_samples, 2) - 0.5)]\r\n",
    "\r\n",
    "# Compare given classifiers under given settings\r\n",
    "xx, yy = np.meshgrid(np.linspace(-7, 7, 150),\r\n",
    "                     np.linspace(-7, 7, 150))\r\n",
    "\r\n",
    "plt.figure(figsize=(len(anomaly_algorithms) * 2 + 3, 12.5))\r\n",
    "plt.subplots_adjust(left=.02, right=.98, bottom=.001, top=.96, wspace=.05,\r\n",
    "                    hspace=.01)\r\n",
    "\r\n",
    "plot_num = 1\r\n",
    "rng = np.random.RandomState(42)\r\n",
    "\r\n",
    "for i_dataset, X in enumerate(datasets):\r\n",
    "    # Add outliers\r\n",
    "    X = np.concatenate([X, rng.uniform(low=-6, high=6,\r\n",
    "                       size=(n_outliers, 2))], axis=0)\r\n",
    "\r\n",
    "    for name, algorithm in anomaly_algorithms:\r\n",
    "        t0 = time.time()\r\n",
    "        algorithm.fit(X)\r\n",
    "        t1 = time.time()\r\n",
    "        plt.subplot(len(datasets), len(anomaly_algorithms), plot_num)\r\n",
    "        if i_dataset == 0:\r\n",
    "            plt.title(name, size=18)\r\n",
    "\r\n",
    "        # fit the data and tag outliers\r\n",
    "        if name == \"Local Outlier Factor\":\r\n",
    "            y_pred = algorithm.fit_predict(X)\r\n",
    "        else:\r\n",
    "            y_pred = algorithm.fit(X).predict(X)\r\n",
    "\r\n",
    "        # plot the levels lines and the points\r\n",
    "        if name != \"Local Outlier Factor\":  # LOF does not implement predict\r\n",
    "            Z = algorithm.predict(np.c_[xx.ravel(), yy.ravel()])\r\n",
    "            Z = Z.reshape(xx.shape)\r\n",
    "            plt.contour(xx, yy, Z, levels=[0], linewidths=2, colors='black')\r\n",
    "\r\n",
    "        colors = np.array(['#377eb8', '#ff7f00'])\r\n",
    "        plt.scatter(X[:, 0], X[:, 1], s=10, color=colors[(y_pred + 1) // 2])\r\n",
    "\r\n",
    "        plt.xlim(-7, 7)\r\n",
    "        plt.ylim(-7, 7)\r\n",
    "        plt.xticks(())\r\n",
    "        plt.yticks(())\r\n",
    "        plt.text(.99, .01, ('%.2fs' % (t1 - t0)).lstrip('0'),\r\n",
    "                 transform=plt.gca().transAxes, size=15,\r\n",
    "                 horizontalalignment='right')\r\n",
    "        plot_num += 1\r\n",
    "\r\n",
    "plt.show()"
   ],
   "outputs": [],
   "metadata": {}
  },
  {
   "cell_type": "markdown",
   "source": [
    "## Importing the DOI component"
   ],
   "metadata": {}
  },
  {
   "cell_type": "code",
   "execution_count": null,
   "source": [
    "import sys; sys.path.append('../') # required for relative imports in python ;)\r\n",
    "from outlierness_component import *"
   ],
   "outputs": [],
   "metadata": {}
  },
  {
   "cell_type": "markdown",
   "source": [
    "## Test on Iris dataset"
   ],
   "metadata": {}
  },
  {
   "cell_type": "code",
   "execution_count": null,
   "source": [
    "from sklearn.datasets import load_iris\r\n",
    "from sklearn.model_selection import train_test_split\r\n",
    "X, y = load_iris(return_X_y=True)\r\n",
    "X_train, X_test, y_train, y_test = train_test_split(X, y, test_size=0.5, random_state=0)\r\n",
    "X_train = pd.DataFrame(X_train)\r\n",
    "X_test = pd.DataFrame(X_test)\r\n",
    "\r\n",
    "X_train[\"id\"] = X_train.index\r\n",
    "X_test[\"id\"] = X_test.index"
   ],
   "outputs": [],
   "metadata": {}
  },
  {
   "cell_type": "code",
   "execution_count": null,
   "source": [
    "outlierness = OutliernessComponent()\r\n",
    "\r\n",
    "print(X_train)\r\n",
    "outlierness.compute_doi(X_train)\r\n",
    "outlierness.train(X_train)\r\n",
    "outlierness.predict_doi(X_test.drop(columns=[\"id\"]))\r\n",
    "err = outlierness.get_prediction_error(X_test)\r\n",
    "\r\n",
    "print(\"mean error\", err.mean())"
   ],
   "outputs": [],
   "metadata": {}
  },
  {
   "cell_type": "markdown",
   "source": [
    "## More \"Benchmarks\""
   ],
   "metadata": {}
  },
  {
   "cell_type": "code",
   "execution_count": null,
   "source": [
    "from sklearn.datasets import make_moons, make_blobs\r\n",
    "\r\n",
    "# Example settings\r\n",
    "n_samples = 1000 # gets too slow at around 100,000 samples\r\n",
    "outliers_fraction = 0.15\r\n",
    "n_outliers = int(outliers_fraction * n_samples)\r\n",
    "n_inliers = n_samples - n_outliers\r\n",
    "\r\n",
    "# Define datasets\r\n",
    "blobs_params = dict(random_state=0, n_samples=n_inliers, n_features=2)\r\n",
    "datasets = [\r\n",
    "    make_blobs(centers=[[0, 0], [0, 0]], cluster_std=0.5,\r\n",
    "               **blobs_params)[0],\r\n",
    "    make_blobs(centers=[[2, 2], [-2, -2]], cluster_std=[0.5, 0.5],\r\n",
    "               **blobs_params)[0],\r\n",
    "    make_blobs(centers=[[2, 2], [-2, -2]], cluster_std=[1.5, .3],\r\n",
    "               **blobs_params)[0],\r\n",
    "    4. * (make_moons(n_samples=n_samples, noise=.05, random_state=0)[0] -\r\n",
    "          np.array([0.5, 0.25])),\r\n",
    "    14. * (np.random.RandomState(42).rand(n_samples, 2) - 0.5)]\r\n",
    "\r\n",
    "\r\n",
    "outlierness = OutliernessComponent()\r\n",
    "\r\n",
    "for d in datasets:\r\n",
    "    X_train = pd.DataFrame(d[:len(d) // 2, :])\r\n",
    "    X_test = pd.DataFrame(d[len(d) // 2:, :])\r\n",
    "    X_test[\"id\"] = X_test.index\r\n",
    "    X_train[\"id\"] = X_train.index\r\n",
    "    outlierness.train(X_train)\r\n",
    "    err = outlierness.get_prediction_error(X_test)\r\n",
    "    print(err.mean())"
   ],
   "outputs": [],
   "metadata": {}
  }
 ],
 "metadata": {
  "kernelspec": {
   "name": "python3",
   "display_name": "Python 3.9.4 64-bit"
  },
  "language_info": {
   "codemirror_mode": {
    "name": "ipython",
    "version": 3
   },
   "file_extension": ".py",
   "mimetype": "text/x-python",
   "name": "python",
   "nbconvert_exporter": "python",
   "pygments_lexer": "ipython3",
   "version": "3.9.4"
  },
  "interpreter": {
   "hash": "63fd5069d213b44bf678585dea6b12cceca9941eaf7f819626cde1f2670de90d"
  }
 },
 "nbformat": 4,
 "nbformat_minor": 4
}