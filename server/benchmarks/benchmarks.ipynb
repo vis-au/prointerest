{
 "cells": [
  {
   "attachments": {},
   "cell_type": "markdown",
   "metadata": {},
   "source": [
    "# Preliminary Benchmarks for DOI functions on Progressive Visualization\n",
    "This notebook contains the code to our benchmarks and for generating the figures we report on in the paper.\n",
    "To run these benchmarks yourself, please follow the following steps first:\n",
    "\n",
    "1. Follow the instructions in `prointerest/server/README.md` to install the python dependencies.\n",
    "2. Follow the instructions in `prointerest/server/data/README.md` to download and preprocess the taxi dataset.\n",
    "3. Notice that you **must** download this entire repository before running this  notebook (`benchmarks.ipynb`), and that this notebook also *must* be located inside the `prointerest/server/benchmarks/` directory in order to work properly.\n",
    "\n",
    "You can now execute the cells of this notebook. Run the three scenarios (ground truth, baseline, our approach) first to generate the benchmark data as csv files, before visualizing the results."
   ]
  },
  {
   "attachments": {},
   "cell_type": "markdown",
   "metadata": {},
   "source": [
    "## Ground truth: Monolithic DOI computation"
   ]
  },
  {
   "cell_type": "code",
   "execution_count": 9,
   "metadata": {},
   "outputs": [
    {
     "name": "stdout",
     "output_type": "stream",
     "text": [
      "monolithic DOI computation: 97.43441724777222s\n"
     ]
    }
   ],
   "source": [
    "from time import time\n",
    "import os\n",
    "from sys import path\n",
    "\n",
    "cwd = os.getcwd()\n",
    "path.append(f\"{cwd}/..\")\n",
    "\n",
    "from doi_benchmark import *\n",
    "\n",
    "N = 10**6\n",
    "\n",
    "reset(intervals=INTERVALS, weights=WEIGHTS)\n",
    "before = time()\n",
    "\n",
    "df = get_next_chunk_from_db(N, as_df=True)\n",
    "doi = compute_dois(df)\n",
    "\n",
    "print(f\"monolithic DOI computation: {time() - before}s\")\n",
    "\n",
    "ids = df[ID]\n",
    "\n",
    "df[\"id\"] = df[ID]\n",
    "df[\"doi\"] = doi\n",
    "\n",
    "df.to_csv(\"monolithic.csv\", index=False)"
   ]
  },
  {
   "attachments": {},
   "cell_type": "markdown",
   "metadata": {},
   "source": [
    "## Baseline: Progressive DOI without adaptations"
   ]
  },
  {
   "cell_type": "code",
   "execution_count": 16,
   "metadata": {},
   "outputs": [
    {
     "name": "stdout",
     "output_type": "stream",
     "text": [
      "chunk-based DOI computation: 1970.0537955760956s\n",
      "median time per chunk: 2.0356041193008423s\n"
     ]
    }
   ],
   "source": [
    "from time import time\n",
    "import os\n",
    "from sys import path\n",
    "import numpy as np\n",
    "\n",
    "cwd = os.getcwd()\n",
    "path.append(f\"{cwd}/..\")\n",
    "\n",
    "from doi_benchmark import *\n",
    "\n",
    "\n",
    "N = 10**6\n",
    "CHUNK_SIZE = 1000\n",
    "CONTEXT_SIZE = 0\n",
    "N_CHUNKS = N // CHUNK_SIZE\n",
    "\n",
    "storage_chunked = WindowingStorage(max_size=N)\n",
    "\n",
    "reset(intervals=INTERVALS, weights=WEIGHTS)\n",
    "timings = []\n",
    "\n",
    "before_all = time()\n",
    "for i in range(N_CHUNKS):\n",
    "  before_chunk = time()\n",
    "  chunk_df, new_dois = get_next_progressive_result(\n",
    "      storage_chunked,\n",
    "      chunk_size=CHUNK_SIZE,\n",
    "      chunk_no=i,\n",
    "  )\n",
    "  timings += [time() - before_chunk]\n",
    "\n",
    "print(f\"chunk-based DOI computation: {time() - before_all}s\")\n",
    "print(f\"median time per chunk: {np.median(timings)}s\")\n",
    "\n",
    "ids = storage_chunked.get_available_ids().tolist()\n",
    "\n",
    "slice = (CHUNK_SIZE * N_CHUNKS) // 10\n",
    "dois_chunked = pd.DataFrame([])\n",
    "\n",
    "# duckdb query fails for all items in get_all_dois(), so get them in chunks ;)\n",
    "for i in range(10):\n",
    "  id_slice = ids[i*slice : (i+1)*slice]\n",
    "  dois = storage_chunked.get_doi_for_ids(id_slice).astype(float)\n",
    "  df = storage_chunked.get_items_for_ids(id_slice, as_df=True)\n",
    "  df[\"id\"] = id_slice\n",
    "  df[\"doi\"] = dois\n",
    "  dois_chunked = pd.concat([dois_chunked, df], ignore_index=True)\n",
    "\n",
    "dois_chunked.to_csv(\"chunked.csv\", index=False)"
   ]
  },
  {
   "attachments": {},
   "cell_type": "markdown",
   "metadata": {},
   "source": [
    "## Progressive DOI with our model"
   ]
  },
  {
   "cell_type": "code",
   "execution_count": 17,
   "metadata": {},
   "outputs": [
    {
     "name": "stdout",
     "output_type": "stream",
     "text": [
      "chunk-based DOI computation: 2409.970556497574s\n",
      "median time per chunk: 2.0636043548583984s\n"
     ]
    }
   ],
   "source": [
    "from time import time\n",
    "import os\n",
    "from sys import path\n",
    "import numpy as np\n",
    "\n",
    "cwd = os.getcwd()\n",
    "path.append(f\"{cwd}/..\")\n",
    "\n",
    "from doi_benchmark import *\n",
    "\n",
    "\n",
    "N = 10**6\n",
    "CHUNK_SIZE = 1000\n",
    "CONTEXT_SIZE = 2000\n",
    "N_CHUNKS = N // CHUNK_SIZE\n",
    "\n",
    "storage_model = WindowingStorage(max_size=N)\n",
    "\n",
    "model = DoiRegressionModel(\n",
    "    storage_model,\n",
    "    max_depth=3,\n",
    "    include_previous_chunks_in_training=False\n",
    ")\n",
    "\n",
    "reset(intervals=INTERVALS, weights=WEIGHTS)\n",
    "timings = []\n",
    "\n",
    "training_columns = [\"tripID\", \"tip_amount\", \"trip_distance\", \"total_amount\", \"passenger_count\"]\n",
    "\n",
    "before_all = time()\n",
    "for i in range(N_CHUNKS):\n",
    "  before_chunk = time()\n",
    "  # if no model exists, provide no context...\n",
    "  if i == 0:\n",
    "      chunk_df, new_dois = get_next_progressive_result(\n",
    "          storage_model,\n",
    "          chunk_size=CHUNK_SIZE,\n",
    "          chunk_no=i,\n",
    "      )\n",
    "\n",
    "      model.update(chunk_df[training_columns], new_dois)\n",
    "  # ... otherwise use model to provide context\n",
    "  else:\n",
    "      chunk_df, new_dois = get_next_progressive_result(\n",
    "          storage_model,\n",
    "          chunk_size=CHUNK_SIZE,\n",
    "          chunk_no=i,\n",
    "          get_context=lambda: model.get_context_items(CONTEXT_SIZE),\n",
    "          model=model\n",
    "      )\n",
    "\n",
    "  model.update(chunk_df[training_columns], new_dois, update_outdated=True)\n",
    "  timings += [time() - before_chunk]\n",
    "\n",
    "print(f\"chunk-based DOI computation: {time() - before_all}s\")\n",
    "print(f\"median time per chunk: {np.median(timings)}s\")\n",
    "\n",
    "\n",
    "ids = storage_model.get_available_ids().tolist()\n",
    "\n",
    "slice = (CHUNK_SIZE * N_CHUNKS) // 10\n",
    "dois_model = pd.DataFrame([])\n",
    "\n",
    "# duckdb query fails for all items in get_all_dois(), so get them in chunks ;)\n",
    "for i in range(10):\n",
    "  id_slice = ids[i*slice : (i+1)*slice]\n",
    "  dois = storage_model.get_doi_for_ids(id_slice).astype(float)\n",
    "  df = storage_model.get_items_for_ids(id_slice, as_df=True)\n",
    "  df[\"id\"] = id_slice\n",
    "  df[\"doi\"] = dois\n",
    "  dois_model = pd.concat([dois_model, df], ignore_index=True)\n",
    "\n",
    "dois_model.to_csv(\"model.csv\", index=False)"
   ]
  },
  {
   "cell_type": "markdown",
   "metadata": {},
   "source": [
    "## Metrics"
   ]
  },
  {
   "attachments": {},
   "cell_type": "markdown",
   "metadata": {},
   "source": [
    "### (a) Top-k interesting items in visualization"
   ]
  },
  {
   "cell_type": "code",
   "execution_count": 13,
   "metadata": {},
   "outputs": [
    {
     "name": "stdout",
     "output_type": "stream",
     "text": [
      "our approach retrieved top k within 433 chunks\n"
     ]
    },
    {
     "data": {
      "text/plain": [
       "<matplotlib.lines.Line2D at 0x1ac47ba6af0>"
      ]
     },
     "execution_count": 13,
     "metadata": {},
     "output_type": "execute_result"
    },
    {
     "data": {
      "image/png": "[encoded data removed]",
      "text/plain": [
       "<Figure size 432x108 with 1 Axes>"
      ]
     },
     "metadata": {
      "needs_background": "light"
     },
     "output_type": "display_data"
    }
   ],
   "source": [
    "import os\n",
    "import numpy as np\n",
    "import pandas as pd\n",
    "\n",
    "\n",
    "# first, make sure that the test cases have been computed\n",
    "if not os.path.exists(\"monolithic.csv\") or not os.path.exists(\"chunked.csv\") or not os.path.exists(\"model.csv\"):\n",
    "  raise(FileNotFoundError(\"Please run all three test cases (ground truth, baseline, ours) before running this cell.\"))\n",
    "\n",
    "monolithic_df = pd.read_csv(\"./monolithic.csv\", index_col=\"id\")\n",
    "chunked_df = pd.read_csv(\"chunked.csv\", index_col=\"id\")\n",
    "model_df = pd.read_csv(\"model.csv\", index_col=\"id\")\n",
    "\n",
    "N = 10**6\n",
    "CHUNK_SIZE = 1000\n",
    "N_CHUNKS = N // CHUNK_SIZE\n",
    "K = 1000\n",
    "\n",
    "# sort data by the ground truth DOI\n",
    "sort_by_doi_mono = np.argsort(monolithic_df[\"doi\"])\n",
    "sorted_df = monolithic_df.iloc[sort_by_doi_mono][::-1]\n",
    "\n",
    "# get the top k ids\n",
    "top_k_ids = sorted_df[:K].index\n",
    "\n",
    "# group data by chunk number\n",
    "model_df[\"chunk_no\"] = np.arange(len(model_df)) // CHUNK_SIZE\n",
    "chunked_df[\"chunk_no\"] = np.arange(len(chunked_df)) // CHUNK_SIZE\n",
    "\n",
    "# find number of top-k items per \"chunk\" per test case\n",
    "top_k_in_chunk = []\n",
    "top_k_in_model = []\n",
    "\n",
    "for i in range(N_CHUNKS):\n",
    "  ids_in_chunk = chunked_df[chunked_df[\"chunk_no\"] <= i].index\n",
    "  ids_in_model = model_df[model_df[\"chunk_no\"] <= i].index\n",
    "\n",
    "  top_k_in_chunk += [ids_in_chunk.isin(top_k_ids).sum()]\n",
    "  top_k_in_model += [ids_in_model.isin(top_k_ids).sum()]\n",
    "\n",
    "print(f\"our approach retrieved top k within {top_k_in_model.index(K)+1} chunks\")\n",
    "ax = pd.DataFrame(np.array([top_k_in_chunk, top_k_in_model]).T, columns=[\"baseline\", \"with our model\"]).plot(grid=True, figsize=(6, 1.5), xlabel=\"iteration\", ylabel=\"count top-k items\")\n",
    "ax.axvline(x=top_k_in_model.index(K), c=\"black\", linestyle=\"dashed\")"
   ]
  },
  {
   "cell_type": "code",
   "execution_count": 28,
   "metadata": {},
   "outputs": [
    {
     "name": "stdout",
     "output_type": "stream",
     "text": [
      "items with error over 0.1: baseline: 59845 ours: 624\n"
     ]
    },
    {
     "data": {
      "text/html": [
       "<div>\n",
       "<style scoped>\n",
       "    .dataframe tbody tr th:only-of-type {\n",
       "        vertical-align: middle;\n",
       "    }\n",
       "\n",
       "    .dataframe tbody tr th {\n",
       "        vertical-align: top;\n",
       "    }\n",
       "\n",
       "    .dataframe thead th {\n",
       "        text-align: right;\n",
       "    }\n",
       "</style>\n",
       "<table border=\"1\" class=\"dataframe\">\n",
       "  <thead>\n",
       "    <tr style=\"text-align: right;\">\n",
       "      <th></th>\n",
       "      <th>baseline</th>\n",
       "      <th>with our model</th>\n",
       "    </tr>\n",
       "  </thead>\n",
       "  <tbody>\n",
       "    <tr>\n",
       "      <th>count</th>\n",
       "      <td>896034.000000</td>\n",
       "      <td>896034.000000</td>\n",
       "    </tr>\n",
       "    <tr>\n",
       "      <th>mean</th>\n",
       "      <td>0.037550</td>\n",
       "      <td>0.017082</td>\n",
       "    </tr>\n",
       "    <tr>\n",
       "      <th>std</th>\n",
       "      <td>0.037950</td>\n",
       "      <td>0.010836</td>\n",
       "    </tr>\n",
       "    <tr>\n",
       "      <th>min</th>\n",
       "      <td>0.000083</td>\n",
       "      <td>-0.008972</td>\n",
       "    </tr>\n",
       "    <tr>\n",
       "      <th>25%</th>\n",
       "      <td>0.015838</td>\n",
       "      <td>0.009472</td>\n",
       "    </tr>\n",
       "    <tr>\n",
       "      <th>50%</th>\n",
       "      <td>0.025677</td>\n",
       "      <td>0.015639</td>\n",
       "    </tr>\n",
       "    <tr>\n",
       "      <th>75%</th>\n",
       "      <td>0.042928</td>\n",
       "      <td>0.022539</td>\n",
       "    </tr>\n",
       "    <tr>\n",
       "      <th>max</th>\n",
       "      <td>0.439771</td>\n",
       "      <td>0.392158</td>\n",
       "    </tr>\n",
       "  </tbody>\n",
       "</table>\n",
       "</div>"
      ],
      "text/plain": [
       "            baseline  with our model\n",
       "count  896034.000000   896034.000000\n",
       "mean        0.037550        0.017082\n",
       "std         0.037950        0.010836\n",
       "min         0.000083       -0.008972\n",
       "25%         0.015838        0.009472\n",
       "50%         0.025677        0.015639\n",
       "75%         0.042928        0.022539\n",
       "max         0.439771        0.392158"
      ]
     },
     "execution_count": 28,
     "metadata": {},
     "output_type": "execute_result"
    },
    {
     "data": {
      "image/png": "[encoded data removed]",
      "text/plain": [
       "<Figure size 504x126 with 2 Axes>"
      ]
     },
     "metadata": {
      "needs_background": "light"
     },
     "output_type": "display_data"
    },
    {
     "data": {
      "image/png": "[encoded data removed]",
      "text/plain": [
       "<Figure size 504x72 with 1 Axes>"
      ]
     },
     "metadata": {
      "needs_background": "light"
     },
     "output_type": "display_data"
    }
   ],
   "source": [
    "import os\n",
    "import pandas as pd\n",
    "from sys import path\n",
    "import matplotlib.pyplot as plt\n",
    "\n",
    "cwd = os.getcwd()\n",
    "path.append(f\"{cwd}/..\")\n",
    "\n",
    "fig, axes = plt.subplots(1, 2, figsize=(7, 1.75), sharex=True, sharey=True)\n",
    "plt.tight_layout()\n",
    "\n",
    "# first, make sure that the test cases have been computed\n",
    "# first, make sure that the test cases have been computed\n",
    "if not os.path.exists(\"monolithic.csv\") or not os.path.exists(\"chunked.csv\") or not os.path.exists(\"model.csv\"):\n",
    "  raise(FileNotFoundError(\"Please run all three test cases (ground truth, baseline, ours) before running this cell.\"))\n",
    "\n",
    "# load the results\n",
    "monolithic_df = pd.read_csv(\"monolithic.csv\", index_col=\"id\")\n",
    "baseline_df = pd.read_csv(\"chunked.csv\", index_col=\"id\")\n",
    "ours_df = pd.read_csv(\"model.csv\", index_col=\"id\")\n",
    "\n",
    "# to get the \"ground truth\", join the two test cases with the monolithic run\n",
    "joined_df = monolithic_df.join(baseline_df[\"doi\"], how=\"inner\", lsuffix=\"_mono\", rsuffix=\"_baseline\")\n",
    "joined_df = joined_df.join(ours_df[\"doi\"], how=\"inner\")\n",
    "\n",
    "# compute the error per test case compared to the monolithic run\n",
    "joined_df[\"baseline\"] = joined_df[\"doi_baseline\"] - joined_df[\"doi_mono\"]\n",
    "joined_df[\"with our model\"] = joined_df[\"doi\"] - joined_df[\"doi_mono\"]\n",
    "\n",
    "df = joined_df[[\"baseline\", \"with our model\"]]\n",
    "\n",
    "# plot the distribution of doi error \n",
    "df[\"baseline\"].plot.hist(bins=100, grid=True, ax=axes[0])\n",
    "df[\"with our model\"].plot.hist(bins=100, color=\"orange\", grid=True, ax=axes[1])\n",
    "\n",
    "# reposition title to remove whitespace\n",
    "axes[0].set_title(\"baseline\", loc='center', y=0.7)\n",
    "axes[1].set_title(\"with our model\", loc='center', y=0.7)\n",
    "\n",
    "flierprops = dict(marker='.', markerfacecolor='black', markersize=2, linestyle='none', alpha=.1)\n",
    "\n",
    "# summarize the doi error statistics as a boxplot\n",
    "df[[\"baseline\", \"with our model\"]].plot.box(figsize=(7, 1), widths=0.8, vert=False, showfliers=True, flierprops=flierprops)\n",
    "\n",
    "baseline_count = len(df[df[\"baseline\"] > 0.1])\n",
    "ours_count = len(df[df[\"with our model\"] > 0.1])\n",
    "print(\"items with error over 0.1:\", f\"baseline: {baseline_count}\", f\"ours: {ours_count}\")\n",
    "\n",
    "# get some summary statistics (note that due to prioritization, our approach retrieves slightly \n",
    "# different items than the baseline, so count is not N but slightly lower due to join)\n",
    "df.describe()"
   ]
  },
  {
   "attachments": {},
   "cell_type": "markdown",
   "metadata": {},
   "source": [
    "<br/>\n",
    "<hr/>"
   ]
  },
  {
   "attachments": {},
   "cell_type": "markdown",
   "metadata": {},
   "source": [
    "## Additional Tests"
   ]
  },
  {
   "cell_type": "markdown",
   "metadata": {},
   "source": [
    "### Training and querying times for interest model"
   ]
  },
  {
   "cell_type": "code",
   "execution_count": 21,
   "metadata": {},
   "outputs": [
    {
     "data": {
      "text/html": [
       "<div>\n",
       "<style scoped>\n",
       "    .dataframe tbody tr th:only-of-type {\n",
       "        vertical-align: middle;\n",
       "    }\n",
       "\n",
       "    .dataframe tbody tr th {\n",
       "        vertical-align: top;\n",
       "    }\n",
       "\n",
       "    .dataframe thead th {\n",
       "        text-align: right;\n",
       "    }\n",
       "</style>\n",
       "<table border=\"1\" class=\"dataframe\">\n",
       "  <thead>\n",
       "    <tr style=\"text-align: right;\">\n",
       "      <th></th>\n",
       "      <th>training time (in s)</th>\n",
       "      <th>find supplemental items (in s)</th>\n",
       "    </tr>\n",
       "  </thead>\n",
       "  <tbody>\n",
       "    <tr>\n",
       "      <th>count</th>\n",
       "      <td>1000.000000</td>\n",
       "      <td>1000.000000</td>\n",
       "    </tr>\n",
       "    <tr>\n",
       "      <th>mean</th>\n",
       "      <td>0.003829</td>\n",
       "      <td>0.001942</td>\n",
       "    </tr>\n",
       "    <tr>\n",
       "      <th>std</th>\n",
       "      <td>0.000846</td>\n",
       "      <td>0.000737</td>\n",
       "    </tr>\n",
       "    <tr>\n",
       "      <th>min</th>\n",
       "      <td>0.001997</td>\n",
       "      <td>0.000840</td>\n",
       "    </tr>\n",
       "    <tr>\n",
       "      <th>25%</th>\n",
       "      <td>0.002996</td>\n",
       "      <td>0.001802</td>\n",
       "    </tr>\n",
       "    <tr>\n",
       "      <th>50%</th>\n",
       "      <td>0.003979</td>\n",
       "      <td>0.001994</td>\n",
       "    </tr>\n",
       "    <tr>\n",
       "      <th>75%</th>\n",
       "      <td>0.004026</td>\n",
       "      <td>0.002027</td>\n",
       "    </tr>\n",
       "    <tr>\n",
       "      <th>max</th>\n",
       "      <td>0.008976</td>\n",
       "      <td>0.009972</td>\n",
       "    </tr>\n",
       "  </tbody>\n",
       "</table>\n",
       "</div>"
      ],
      "text/plain": [
       "       training time (in s)  find supplemental items (in s)\n",
       "count           1000.000000                     1000.000000\n",
       "mean               0.003829                        0.001942\n",
       "std                0.000846                        0.000737\n",
       "min                0.001997                        0.000840\n",
       "25%                0.002996                        0.001802\n",
       "50%                0.003979                        0.001994\n",
       "75%                0.004026                        0.002027\n",
       "max                0.008976                        0.009972"
      ]
     },
     "execution_count": 21,
     "metadata": {},
     "output_type": "execute_result"
    }
   ],
   "source": [
    "from time import time\n",
    "import os\n",
    "from sys import path\n",
    "\n",
    "cwd = os.getcwd()\n",
    "path.append(f\"{cwd}/..\")\n",
    "\n",
    "from doi_benchmark import *\n",
    "\n",
    "N = 10**6\n",
    "CHUNK_SIZE = 1000\n",
    "CONTEXT_SIZE = 2000\n",
    "N_CHUNKS = N // CHUNK_SIZE\n",
    "\n",
    "# reset(intervals=INTERVALS, weights=WEIGHTS)\n",
    "\n",
    "# df = get_next_chunk_from_db(N, as_df=True)\n",
    "\n",
    "storage_model = WindowingStorage(max_size=N)\n",
    "\n",
    "model = DoiRegressionModel(\n",
    "    storage_model,\n",
    "    max_depth=3,\n",
    "    include_previous_chunks_in_training=False\n",
    ")\n",
    "\n",
    "training_times = []\n",
    "query_times = []\n",
    "training_columns = [\"tripID\", \"tip_amount\", \"trip_distance\", \"total_amount\", \"passenger_count\"]\n",
    "\n",
    "for i in range(N_CHUNKS):\n",
    "  chunk_df = df.iloc[i*CHUNK_SIZE : (i+1)*CHUNK_SIZE]\n",
    "  before_training = time()\n",
    "\n",
    "  model.update(chunk_df[training_columns], np.random.rand(CHUNK_SIZE))\n",
    "  training_times += [time() - before_training]\n",
    "\n",
    "  before_query = time()\n",
    "  model.get_context_items(CONTEXT_SIZE)\n",
    "  query_times += [time() - before_query]\n",
    "\n",
    "stats = pd.DataFrame(np.array([training_times, query_times]).T, columns=[\"training time (in s)\", \"find supplemental items (in s)\"])\n",
    "stats.describe()"
   ]
  },
  {
   "cell_type": "markdown",
   "metadata": {},
   "source": [
    "### Tree parameters"
   ]
  },
  {
   "cell_type": "code",
   "execution_count": null,
   "metadata": {},
   "outputs": [],
   "source": [
    "import os\n",
    "from sys import path\n",
    "\n",
    "cwd = os.getcwd()\n",
    "path.append(f\"{cwd}/..\")\n",
    "\n",
    "from doi_benchmark import Benchmark\n",
    "\n",
    "\n",
    "def benchmark_max_depth(tested_max_depths: range = range(1, 10)):\n",
    "  '''Measures how varying `max_depth` parameter influences progressive DOI prediction scores, over \n",
    "  a series of chunks (without retraining) --- how stable/overfitted is the tree model.'''\n",
    "  benchmark = Benchmark(max_depths=tested_max_depths)\n",
    "  scores = benchmark.run()\n",
    "  return scores\n",
    "\n",
    "\n",
    "def benchmark_retraining_intervals(tested_intervals: range = range(25)):\n",
    "  '''Measures how varying the update interval influences progressive DOI prediction scores.'''\n",
    "  benchmark = Benchmark(intervals=tested_intervals)\n",
    "  scores = benchmark.run()\n",
    "  return scores\n",
    "\n",
    "\n",
    "def benchmark_chunk_size(tested_sizes: range = range(1000, 110000, 10000)):\n",
    "  '''Measures how varying the chunk size influences the progressive DOI prediction scores (without\n",
    "   retraining, without context)'''\n",
    "  benchmark = Benchmark(chunk_size=tested_sizes)\n",
    "  scores = benchmark.run()\n",
    "  return scores\n",
    "\n",
    "\n",
    "def benchmark_context_size(tested_sizes: range = range(0, 11000, 1000)):\n",
    "  '''Measures how varying the context size influences the progressive DOI prediction scores (without\n",
    "   retraining)'''\n",
    "  benchmark = Benchmark(context_size=tested_sizes)\n",
    "  scores = benchmark.run()\n",
    "  return scores\n",
    "\n",
    "\n",
    "def benchmark_context_strategies(context_strats=[\"stratified\", \"minmax\"]):\n",
    "  benchmark = Benchmark(n_chunks=50, context_size=500, intervals=50, measure_doi_error=True, context_strats=context_strats)\n",
    "  scores = benchmark.run()\n",
    "\n",
    "  return scores\n",
    "\n",
    "\n",
    "def benchmark_doi_error_without_context():\n",
    "  '''Measures the changes in DOI error throughout the progression, when no optimizations are \n",
    "   applied.'''\n",
    "  benchmark = Benchmark(n_chunks=100, chunk_size=1000, measure_doi_error=True)\n",
    "  scores = benchmark.run()\n",
    "\n",
    "  return scores\n",
    "\n",
    "  \n",
    "def benchmark_doi_error_with_context():\n",
    "  '''Measures the changes in DOI error throughout the progression, when context optimizations are \n",
    "   applied.'''\n",
    "  benchmark = Benchmark(n_chunks=100, chunk_size=1000, measure_doi_error=True, context_size=1000, intervals=5, context_strats=\"stratified\")\n",
    "  scores = benchmark.run()\n",
    "\n",
    "  return scores\n",
    "\n",
    "def benchmark_retraining_strategies():\n",
    "  '''Measures the changes in DOI error throughout the progression, when context is applied by simply predicting the DOI'''\n",
    "\n",
    "  benchmark = Benchmark(n_chunks=10, chunk_size=1000, context_size=1000, intervals=5, measure_doi_error=True, measure_timings=True, include_previous_chunks_in_training=[True, False])\n",
    "  scores = benchmark.run()\n",
    "\n",
    "  return scores, benchmark\n",
    "\n",
    "def benchmark_with_without_model():\n",
    "  '''Measures the impact of using vs. not using the regression tree model for computing the user interest.'''\n",
    "  benchmark = Benchmark(measure_doi_error=True)\n",
    "\n",
    "  scores = benchmark.run()\n",
    "  return scores, benchmark\n",
    "\n",
    "# results: max_depth = 3 has best peformance, then no improvement/worse for bigger values\n",
    "max_depth_results = benchmark_max_depth()\n",
    "\n",
    "# results: trivial best results for 0 and 1, score std for 3-8 above 0.9 \n",
    "intervals_results = benchmark_retraining_intervals()\n",
    "\n",
    "# results: the larger the context the worse the scores.\n",
    "context_size_results = benchmark_context_size()\n",
    "\n",
    "# results: the larger the chunk size, the better the scores\n",
    "chunk_size_results = benchmark_chunk_size()\n",
    "\n",
    "# results: minmax worse than stratified sampling\n",
    "context_strategies_results = benchmark_context_strategies()\n",
    "\n",
    "# results: overall error increases with every chunk -> DOI values \"age\"\n",
    "doi_error_without_context_results = benchmark_doi_error_without_context()\n",
    "\n",
    "# results: error increases over time but not as badly as without the context and it gets better\n",
    "doi_error_with_context_results = benchmark_doi_error_with_context()"
   ]
  },
  {
   "cell_type": "code",
   "execution_count": null,
   "metadata": {},
   "outputs": [],
   "source": [
    "import matplotlib.pyplot as plt\n",
    "\n",
    "fig, axes = plt.subplots(1, 2, figsize=(10, 5), sharex=True, sharey=True)\n",
    "\n",
    "doi_error_with_context_results[~doi_error_with_context_results[\"include_previous_chunks_in_training\"]].plot(x=\"chunk\", y=\"error_mean\", ax=axes[0])\n",
    "doi_error_with_context_results[doi_error_with_context_results[\"include_previous_chunks_in_training\"]].plot(x=\"chunk\", y=\"error_mean\", ax=axes[1])"
   ]
  },
  {
   "cell_type": "code",
   "execution_count": null,
   "metadata": {},
   "outputs": [],
   "source": [
    "import matplotlib.pyplot as plt\n",
    "\n",
    "fig, axes = plt.subplots(1, 3, figsize=(10, 5), sharey=True)\n",
    "\n",
    "doi_error_with_context_results.boxplot(column=\"score\", by=\"include_previous_chunks_in_training\", ax=axes[0])\n",
    "\n",
    "doi_error_with_context_results[~doi_error_with_context_results[\"include_previous_chunks_in_training\"]].plot(y=\"score\", x=\"chunk\", ax=axes[1])\n",
    "\n",
    "doi_error_with_context_results[doi_error_with_context_results[\"include_previous_chunks_in_training\"]].plot(y=\"score\", x=\"chunk\", ax=axes[2])"
   ]
  },
  {
   "cell_type": "code",
   "execution_count": null,
   "metadata": {},
   "outputs": [],
   "source": [
    "import matplotlib.pyplot as plt\n",
    "\n",
    "fig, axes = plt.subplots(1, 2, figsize=(12, 5), sharey=True, sharex=True)\n",
    "\n",
    "doi_error_without_context_results[\"error_std\"].plot(ax=axes[0])\n",
    "doi_error_with_context_results[\"error_std\"].plot(ax=axes[1])"
   ]
  },
  {
   "cell_type": "code",
   "execution_count": null,
   "metadata": {},
   "outputs": [],
   "source": [
    "import matplotlib.pyplot as plt\n",
    "\n",
    "fig, axes = plt.subplots(1, 2, figsize=(10, 5))\n",
    "\n",
    "context_strategies_results.boxplot(column=\"error_std\", by=\"context_strat\", ax=axes[0])\n",
    "context_strategies_results.plot(y=\"error_std\", x=\"chunk\",  ax=axes[1])\n"
   ]
  },
  {
   "cell_type": "code",
   "execution_count": null,
   "metadata": {},
   "outputs": [],
   "source": [
    "max_depth_results.boxplot(column=\"score\", by=\"max_depth\")"
   ]
  },
  {
   "cell_type": "code",
   "execution_count": null,
   "metadata": {},
   "outputs": [],
   "source": [
    "intervals_results.boxplot(column=\"score\", by=\"interval\")"
   ]
  },
  {
   "cell_type": "code",
   "execution_count": null,
   "metadata": {},
   "outputs": [],
   "source": [
    "context_size_results.boxplot(column=\"score\", by=\"context_size\")"
   ]
  },
  {
   "cell_type": "code",
   "execution_count": null,
   "metadata": {},
   "outputs": [],
   "source": [
    "chunk_size_results.boxplot(column=\"score\", by=\"chunk_size\")"
   ]
  }
 ],
 "metadata": {
  "kernelspec": {
   "display_name": "venv",
   "language": "python",
   "name": "python3"
  },
  "language_info": {
   "codemirror_mode": {
    "name": "ipython",
    "version": 3
   },
   "file_extension": ".py",
   "mimetype": "text/x-python",
   "name": "python",
   "nbconvert_exporter": "python",
   "pygments_lexer": "ipython3",
   "version": "3.8.1"
  },
  "orig_nbformat": 4,
  "vscode": {
   "interpreter": {
    "hash": "46092ee2eab2a2b22a3e3ce35717d01e098c5874b352c7dbdb7d6cf8b8036d88"
   }
  }
 },
 "nbformat": 4,
 "nbformat_minor": 2
}
