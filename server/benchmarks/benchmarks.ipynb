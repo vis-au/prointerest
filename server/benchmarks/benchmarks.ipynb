{
 "cells": [
  {
   "cell_type": "markdown",
   "metadata": {},
   "source": [
    "# Benchmarks of Strategies for Selecting Outdated Items\n",
    "This notebook contains the benchmarks related to the selection strategies for context data, which we report in our paper.\n",
    "Context data are selected from the processed data and included in the next progressive computation step, such that its result approximates that of a _non-progressive_ computation over the processed data.\n",
    "\n",
    "## Benchmark Configuration\n",
    "\n",
    "We use the following configuration in our benchmarks:\n",
    "### Test cases \n",
    "- full computation over the entire dataset (upper baseline)\n",
    "- progressive computation without optimization (lower baseline)\n",
    "- full computation of processed data\n",
    "- progressive computation using optimization strategies\n",
    "\n",
    "### Dataset\n",
    "- NYC taxis dataset (10 Million items), stored in a compressed CSV file, loaded with DuckDB \n",
    "\n",
    "### Variables\n",
    "- dependent variables: runtime, prediction error\n",
    "- independent variables: "
   ]
  },
  {
   "cell_type": "markdown",
   "metadata": {},
   "source": [
    "## Benchmarks"
   ]
  },
  {
   "cell_type": "markdown",
   "metadata": {},
   "source": [
    "### Finding an appropriate `chunk size`\n",
    "The number of items in each chunk dictate the computation time for each chunk in the data, in that the more items we process, the longer the DOI computation takes.\n",
    "Therefore, the first consideration in our benchmarks is to find the maximum number of items, for which the computation time remains immediate.\n",
    "Prior work (see Card et al., 1991) has shown this limit to be about one second.\n",
    "\n",
    "In the cell below, we try different chunk sizes to find the maximum items we can pass to the doi function for computations under 1s."
   ]
  },
  {
   "cell_type": "code",
   "execution_count": null,
   "metadata": {},
   "outputs": [],
   "source": [
    "from time import time\n",
    "from setup import *\n",
    "from test_case import create_test_case\n",
    "\n",
    "chunk_sizes = [10, 100, 1000, 10000]\n",
    "\n",
    "for size in chunk_sizes:\n",
    "  before = time()\n",
    "  test_case = create_test_case(\n",
    "    name=\"__test__\", \n",
    "    doi=doi,\n",
    "    c=NoContext(n_dims, None), \n",
    "    u=NoUpdate(n_dims, None), \n",
    "    s=NoStorage(),\n",
    "    doi_label=doi_label,\n",
    "    data_label=data_label,\n",
    "    data_path=data_path,\n",
    "    column_data_path=column_data_path,\n",
    "    id_column=id_column,\n",
    "    chunk_size=size, \n",
    "    update_interval=0,\n",
    "    path=path,\n",
    "    max_size=0,\n",
    "    chunks=1,\n",
    "    total_size=total_size,\n",
    "  )\n",
    "  test_case.run()\n",
    "  print(f\"{size}: {time() - before}s\")\n"
   ]
  },
  {
   "cell_type": "markdown",
   "metadata": {},
   "source": [
    "### Computing the Baselines\n",
    "#### Baseline1: Monolithic computation\n",
    "The ground truth for our strategies is a full computation over the entire dataset without any chunking.\n",
    "This computation naturally takes a long time to complete, which is why the progressive scenario is so much more effective from a user perspective: we get to see the data much faster.\n",
    "\n",
    "In the context of the `BenchmarkTestCase` class, the monolithic computation corresponds with running a progression with a single chunk. \n",
    "\n",
    "#### Baseline2: Bigger chunks\n",
    "In addition to the full computation, another important baseline is to compare ourselves against a computation that does not use any strategies, but instead uses the entire `chunk time` to compute a whole new chunk.\n",
    "The idea here is to compare, whether all the context- and outdated-computations are actually valuable, or whether we could just use all resources on processing new data instead."
   ]
  },
  {
   "cell_type": "code",
   "execution_count": null,
   "metadata": {},
   "outputs": [],
   "source": [
    "from setup import *\n",
    "from test_case import run_ground_truth_test_case, run_bigger_chunks_test_case\n",
    "\n",
    "run_ground_truth_test_case(doi_label, doi, data_label, n_dims, total_size, data_path, column_data_path, id_column, path)\n",
    "run_bigger_chunks_test_case(doi_label, doi, data_label, n_dims, chunk_size, update_size, context_size, total_size, data_path, column_data_path, id_column, path)"
   ]
  },
  {
   "cell_type": "markdown",
   "metadata": {},
   "source": [
    "### Running the test cases"
   ]
  },
  {
   "cell_type": "code",
   "execution_count": null,
   "metadata": {},
   "outputs": [],
   "source": [
    "from setup import *\n",
    "from test_case import create_test_case\n",
    "\n",
    "total = len(context_strategies) * len(update_strategies)\n",
    "i = 0\n",
    "doi_ = doi\n",
    "print(f\"data: {data_label}, {short_test_case_title}\\n####\")\n",
    "for c_strat in context_strategies:\n",
    "  for u_strat in update_strategies:\n",
    "    i += 1\n",
    "    print(f\"({i}/{total}) context: {c_strat[0]}, update: {u_strat[0]}\")\n",
    "\n",
    "    # check if already completed\n",
    "    name = f\"{c_strat[0]}-{u_strat[0]}\"\n",
    "    if os.path.isfile(f\"{path}/doi/{name}.csv\") and os.path.isfile(f\"{path}/times/{name}.csv\"):\n",
    "      print(\"skipping test case because already completed.\")\n",
    "      continue\n",
    "    \n",
    "    tc = create_test_case(name, data_label, doi_label, data_path, column_data_path, id_column, doi,\n",
    "                          WindowingStorage(max_size=total_size), c_strat[1](), u_strat[1](), chunk_size,\n",
    "                          context_size, update_size, update_interval, path, chunks, total_size)\n",
    "    tc.run()\n",
    "\n",
    "    print(f\"done: {tc.pipeline.total_time}s\")"
   ]
  },
  {
   "cell_type": "markdown",
   "metadata": {},
   "source": [
    "### Evaluation"
   ]
  },
  {
   "cell_type": "code",
   "execution_count": null,
   "metadata": {},
   "outputs": [],
   "source": [
    "from imblearn.under_sampling import RandomUnderSampler\n",
    "from sklearn.metrics import jaccard_score, r2_score\n",
    "\n",
    "rus = RandomUnderSampler(random_state=0)\n",
    "\n",
    "def evaluate_test_case(test_case: np.ndarray, ground_truth: np.ndarray):\n",
    "  # score = jaccard_score(test_case, ground_truth, average=\"weighted\")\n",
    "  score = r2_score(ground_truth, test_case)\n",
    "  return score\n",
    "\n",
    "ground_truth = results_full[\"doi\"]\n",
    "context_test_case = results_context[\"doi\"]\n",
    "baseline_test_case = results_chunked[\"doi\"]\n",
    "\n",
    "\n",
    "evaluate_test_case(baseline_test_case, ground_truth), evaluate_test_case(context_test_case, ground_truth)"
   ]
  }
 ],
 "metadata": {
  "interpreter": {
   "hash": "63fd5069d213b44bf678585dea6b12cceca9941eaf7f819626cde1f2670de90d"
  },
  "kernelspec": {
   "display_name": "Python 3.9.4 64-bit",
   "language": "python",
   "name": "python3"
  },
  "language_info": {
   "codemirror_mode": {
    "name": "ipython",
    "version": 3
   },
   "file_extension": ".py",
   "mimetype": "text/x-python",
   "name": "python",
   "nbconvert_exporter": "python",
   "pygments_lexer": "ipython3",
   "version": "3.9.4"
  },
  "orig_nbformat": 4
 },
 "nbformat": 4,
 "nbformat_minor": 2
}
