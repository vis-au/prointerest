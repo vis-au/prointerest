{
 "cells": [
  {
   "cell_type": "markdown",
   "metadata": {},
   "source": [
    "Benchmark the context-based DOI computation against a no-context baseline and compare it with the ground truth of computing the DOI for all data at once."
   ]
  },
  {
   "cell_type": "code",
   "execution_count": 1,
   "metadata": {},
   "outputs": [
    {
     "name": "stdout",
     "output_type": "stream",
     "text": [
      "optimized: 146.8007435798645 s\n",
      "baseline: 52.16898965835571 s\n",
      "ground truth: 11.662999391555786 s\n"
     ]
    }
   ],
   "source": [
    "import os\n",
    "from sys import path\n",
    "from time import time\n",
    "\n",
    "import numpy as np\n",
    "\n",
    "cwd = os.getcwd()\n",
    "path.append(f\"{cwd}/..\")\n",
    "\n",
    "from database import (create_tables, drop_tables, get_next_chunk_from_db,\n",
    "                      reset_progression, save_dois, update_dois)\n",
    "from doi_function import (compute_dois, reset_doi_component,\n",
    "                          set_dimension_weights, set_dimension_intervals)\n",
    "\n",
    "from server import taxi_process_chunk\n",
    "\n",
    "\n",
    "def reset(weights: dict, intervals: dict): \n",
    "  drop_tables()\n",
    "\n",
    "  create_tables(\n",
    "      row_data_path=\"../data/nyc_taxis.shuffled_full.csv.gz\",\n",
    "      column_data_path=\"../data/nyc_taxis.shuffled_full.parquet\",\n",
    "      id_column=\"tripID\",\n",
    "      total_size=112145904,\n",
    "      process_chunk_callback=taxi_process_chunk,\n",
    "  )\n",
    "\n",
    "  reset_progression()\n",
    "  reset_doi_component()\n",
    "  set_dimension_weights(weights)\n",
    "  set_dimension_intervals(intervals)\n",
    "\n",
    "doi_storage_ground_truth = {}\n",
    "doi_storage_optimized = {}\n",
    "doi_storage_baseline = {}\n",
    "\n",
    "def benchmark(iterations: int, chunk_size: int, weights: dict, intervals: dict):\n",
    "\n",
    "  ##################################################################################################\n",
    "  # TEST_CASE\n",
    "  ##################################################################################################\n",
    "  reset(weights, intervals)\n",
    "  now = time()\n",
    "  for i in range(iterations):\n",
    "    chunk = get_next_chunk_from_db(chunk_size)\n",
    "    new_dois, updated_ids, updated_dois = compute_dois(chunk, use_optimizations=True)\n",
    "\n",
    "    new_ids = np.array(chunk)[:, 0].tolist()\n",
    "    updated_ids = np.array(updated_ids).tolist()\n",
    "\n",
    "    save_dois(new_ids, new_dois.reshape(-1, ).tolist())\n",
    "    update_dois(updated_ids, updated_dois.reshape(-1, ).tolist())\n",
    "\n",
    "    for i, new_id in enumerate(new_ids):\n",
    "      doi_storage_optimized[str(new_id)] = new_dois[i][0]\n",
    "\n",
    "    for i, updated_id in enumerate(updated_ids):\n",
    "      doi_storage_optimized[str(updated_id)] = updated_dois[i][0]\n",
    "\n",
    "  print(\"optimized:\", time() - now, \"s\")\n",
    "\n",
    "  ##################################################################################################\n",
    "  # BASELINE\n",
    "  ##################################################################################################\n",
    "  reset(weights, intervals)\n",
    "  set_dimension_weights(weights)\n",
    "  set_dimension_intervals(intervals)\n",
    "  now = time()\n",
    "  for i in range(iterations):\n",
    "    chunk = get_next_chunk_from_db(chunk_size)\n",
    "    new_dois, _, _ = compute_dois(chunk, use_optimizations=False)\n",
    "\n",
    "    new_ids = np.array(chunk)[:, 0].tolist()\n",
    "\n",
    "    for i, new_id in enumerate(new_ids):\n",
    "      doi_storage_baseline[str(new_id)] = new_dois[i][0]\n",
    "      \n",
    "  print(\"baseline:\", time() - now, \"s\")\n",
    "\n",
    "  ##################################################################################################\n",
    "  # GROUND TRUTH\n",
    "  ##################################################################################################\n",
    "  reset(weights, intervals)\n",
    "  now = time()\n",
    "  chunk = get_next_chunk_from_db(chunk_size * iterations)\n",
    "  new_dois, _, _ = compute_dois(chunk, use_optimizations=False)\n",
    "\n",
    "  new_ids = np.array(chunk)[:, 0].tolist()\n",
    "\n",
    "  for i, new_id in enumerate(new_ids):\n",
    "    doi_storage_ground_truth[str(new_id)] = new_dois[i][0]\n",
    "\n",
    "  print(\"ground truth:\", time() - now, \"s\")\n",
    "\n",
    "\n",
    "ITERATIONS = 100\n",
    "CHUNK_SIZE = 1000\n",
    "WEIGHTS = {\n",
    "  \"trip_distance\": 0.25,\n",
    "  \"total_amount\": 0.25,\n",
    "  \"tip_amount\": 0.25,\n",
    "  \"trip_duration\": 0.25,\n",
    "}\n",
    "INTERVALS = {\n",
    "  \"trip_distance\": [16, 20],\n",
    "  \"total_amount\": [34, 74],\n",
    "  \"tip_amount\": [4, 12],\n",
    "  \"trip_duration\": [3, 5],\n",
    "}\n",
    "\n",
    "benchmark(ITERATIONS, CHUNK_SIZE, WEIGHTS, INTERVALS)"
   ]
  },
  {
   "attachments": {},
   "cell_type": "markdown",
   "metadata": {},
   "source": [
    "Plot baseline and test case against the ground truth"
   ]
  },
  {
   "cell_type": "code",
   "execution_count": 6,
   "metadata": {},
   "outputs": [
    {
     "data": {
      "text/plain": [
       "<AxesSubplot:>"
      ]
     },
     "execution_count": 6,
     "metadata": {},
     "output_type": "execute_result"
    },
    {
     "data": {
      "image/png": "[encoded data removed]",
      "text/plain": [
       "<Figure size 1008x216 with 2 Axes>"
      ]
     },
     "metadata": {
      "needs_background": "light"
     },
     "output_type": "display_data"
    }
   ],
   "source": [
    "import matplotlib.pyplot as plt\n",
    "import pandas as pd\n",
    "import numpy as np\n",
    "\n",
    "figsize = (14, 3)\n",
    "fig, axes = plt.subplots(1, 2, figsize=figsize)\n",
    "\n",
    "bin_size = 0.001\n",
    "bins = np.arange(0, 1 + bin_size, bin_size)\n",
    "pd.Series(doi_storage_ground_truth).hist(bins=bins, ax=axes[0], alpha=0.3, color=\"black\")\n",
    "pd.Series(doi_storage_optimized).hist(bins=bins, ax=axes[0], alpha=0.3, color=\"teal\")\n",
    "\n",
    "pd.Series(doi_storage_ground_truth).hist(bins=bins, ax=axes[1], alpha=0.3, color=\"black\")\n",
    "pd.Series(doi_storage_baseline).hist(bins=bins, ax=axes[1], alpha=0.3, color=\"orange\")"
   ]
  },
  {
   "cell_type": "markdown",
   "metadata": {},
   "source": [
    "Summarize the benchmarks with basic descriptive statistics."
   ]
  },
  {
   "cell_type": "code",
   "execution_count": 4,
   "metadata": {},
   "outputs": [
    {
     "data": {
      "text/plain": [
       "('baseline',\n",
       " count    100000.000000\n",
       " mean         -0.028479\n",
       " std           0.030859\n",
       " min          -0.344976\n",
       " 25%          -0.032551\n",
       " 50%          -0.018979\n",
       " 75%          -0.011182\n",
       " max          -0.000053\n",
       " dtype: float64,\n",
       " 'optimized',\n",
       " count    100000.000000\n",
       " mean         -0.020795\n",
       " std           0.023960\n",
       " min          -0.255620\n",
       " 25%          -0.023900\n",
       " 50%          -0.013560\n",
       " 75%          -0.007508\n",
       " max          -0.000002\n",
       " dtype: float64)"
      ]
     },
     "execution_count": 4,
     "metadata": {},
     "output_type": "execute_result"
    }
   ],
   "source": [
    "import pandas as pd\n",
    "\n",
    "gt_df = pd.Series(doi_storage_ground_truth).sort_index()\n",
    "optimized_df = pd.Series(doi_storage_optimized).sort_index()\n",
    "baseline_df = pd.Series(doi_storage_baseline).sort_index()\n",
    "\n",
    "\n",
    "df = pd.DataFrame(columns=[\"gt\", \"baseline\", \"optimized\"], index=gt_df.index)\n",
    "\n",
    "df[\"gt\"] = gt_df.to_numpy()\n",
    "df[\"baseline\"] = baseline_df.to_numpy()\n",
    "df[\"optimized\"] = optimized_df.to_numpy()\n",
    "\n",
    "# sanity check:\n",
    "assert (df[\"gt\"] - gt_df).sum() == 0.0\n",
    "assert (df[\"baseline\"] - baseline_df).sum() == 0.0\n",
    "assert (df.index != baseline_df.index).sum() == 0.0\n",
    "assert (df[\"optimized\"] - optimized_df).sum() == 0.0\n",
    "assert (df.index != optimized_df.index).sum() == 0.0\n",
    "\n",
    "baseline_error = df[\"gt\"] - df[\"baseline\"]\n",
    "optimized_error = df[\"gt\"] - df[\"optimized\"]\n",
    "\n",
    "\"baseline\", baseline_error.describe(), \"optimized\", optimized_error.describe()"
   ]
  },
  {
   "attachments": {},
   "cell_type": "markdown",
   "metadata": {},
   "source": [
    "Benchmark the new `DoiRegressionModel` class"
   ]
  },
  {
   "cell_type": "code",
   "execution_count": 7,
   "metadata": {},
   "outputs": [],
   "source": [
    "import os\n",
    "from sys import path\n",
    "\n",
    "cwd = os.getcwd()\n",
    "path.append(f\"{cwd}/..\")\n",
    "import numpy as np\n",
    "import pandas as pd\n",
    "from database import (create_tables, drop_tables, get_next_chunk_from_db,\n",
    "                      reset_progression)\n",
    "from doi_function import (compute_dois, reset_doi_component,\n",
    "                          set_dimension_intervals, set_dimension_weights)\n",
    "from doi_regression_model import *\n",
    "from storage_strategy.windowing_storage import WindowingStorage\n",
    "\n",
    "from server import taxi_process_chunk\n",
    "\n",
    "\n",
    "def reset(weights: dict, intervals: dict): \n",
    "  drop_tables()\n",
    "\n",
    "  create_tables(\n",
    "      row_data_path=\"../data/nyc_taxis.shuffled_full.csv.gz\",\n",
    "      column_data_path=\"../data/nyc_taxis.shuffled_full.parquet\",\n",
    "      id_column=\"tripID\",\n",
    "      total_size=112145904,\n",
    "      process_chunk_callback=taxi_process_chunk,\n",
    "  )\n",
    "\n",
    "  reset_progression()\n",
    "  reset_doi_component()\n",
    "  set_dimension_weights(weights)\n",
    "  set_dimension_intervals(intervals)\n",
    "\n",
    "\n",
    "CHUNK_SIZE = 1000\n",
    "WEIGHTS = {\n",
    "  \"trip_distance\": 0.25,\n",
    "  \"total_amount\": 0.25,\n",
    "  \"tip_amount\": 0.25,\n",
    "  \"trip_duration\": 0.25,\n",
    "}\n",
    "INTERVALS = {\n",
    "  \"trip_distance\": [16, 20],\n",
    "  \"total_amount\": [34, 74],\n",
    "  \"tip_amount\": [4, 12],\n",
    "  \"trip_duration\": [3, 5],\n",
    "}\n",
    "\n",
    "reset(intervals=INTERVALS, weights=WEIGHTS)\n",
    "\n",
    "\n",
    "def get_next_progressive_result(storage: StorageStrategy, get_context = None):\n",
    "  '''Wrapper function for getting a new chunk, computing the DOI function on it and storing the data\n",
    "     for later retrieval in the storage.'''\n",
    "\n",
    "  # get chunk and compute context\n",
    "  chunk_df = get_next_chunk_from_db(CHUNK_SIZE, as_df=True)\n",
    "  \n",
    "  context_df = pd.DataFrame([], columns = chunk_df.columns)\n",
    "  if get_context is not None:\n",
    "    context_df = get_context()\n",
    "\n",
    "  # compute the DOI over chunk + context\n",
    "  df = pd.concat([chunk_df, context_df], ignore_index=True)\n",
    "  dois = compute_dois(pd.DataFrame(df.to_numpy()))  # HACK: compatibility with DoiComponent class\n",
    "  new_dois = dois[:len(chunk_df)]\n",
    "\n",
    "  storage.insert_chunk(chunk_df, 0)\n",
    "\n",
    "  # remove non-numerical columns as they crash the tree's training step\n",
    "  drop_cols = [\"tpep_pickup_datetime\", \"tpep_dropoff_datetime\", \"store_and_fwd_flag\", \"duration\", \"ratio\"]\n",
    "  chunk_df = chunk_df.drop(columns=drop_cols) \n",
    "  chunk_df = chunk_df.astype(np.float32)\n",
    "\n",
    "  return chunk_df, new_dois\n",
    "\n",
    "\n",
    "def benchmark_max_depth(tested_max_depths: range = range(1, 10), n_chunks: int = 25):\n",
    "  '''Tests how varying `max_depth` parameter influences progressive DOI prediction scores.'''\n",
    "  scores = []\n",
    "\n",
    "  for test_case_depth in tested_max_depths:\n",
    "    reset(intervals=INTERVALS, weights=WEIGHTS)\n",
    "    storage = WindowingStorage(max_size=10000000)\n",
    "    model = DoiRegressionModel(storage, max_depth=test_case_depth)\n",
    "\n",
    "    test_case_scores_per_chunk = []\n",
    "    for i in range(n_chunks):\n",
    "      chunk_df, new_dois = get_next_progressive_result(storage)\n",
    "      if i == 0:\n",
    "        model.update(chunk_df, new_dois)\n",
    "      test_case_scores_per_chunk += [model.score(chunk_df, new_dois)]\n",
    "    scores += [test_case_scores_per_chunk]\n",
    "  \n",
    "  return pd.DataFrame(np.array(scores).T, columns=tested_max_depths)\n",
    "\n",
    "\n",
    "def benchmark_retraining_intervals(tested_intervals: range = range(25), max_depth: int = 3, n_chunks: int = 25):\n",
    "  '''Tests how varying the update interval influences progressive DOI prediction scores.'''\n",
    "  scores = []\n",
    "\n",
    "  for test_case_interval in tested_intervals:\n",
    "    reset(intervals=INTERVALS, weights=WEIGHTS)\n",
    "    storage = WindowingStorage(max_size=10000000)\n",
    "    model = DoiRegressionModel(storage, max_depth=max_depth)\n",
    "\n",
    "    test_case_scores_per_chunk = []\n",
    "    for i in range(n_chunks):\n",
    "      chunk_df, new_dois = get_next_progressive_result(storage)\n",
    "      if test_case_interval == 0 or i % test_case_interval == 0:\n",
    "        model.update(chunk_df, new_dois)\n",
    "      test_case_scores_per_chunk += [model.score(chunk_df, new_dois)]\n",
    "    scores += [test_case_scores_per_chunk]\n",
    "\n",
    "  return pd.DataFrame(np.array(scores).T, columns=tested_intervals)\n",
    "\n",
    "def benchmark_context(update_interval: int = 8, max_depth: int = 3, n_chunks: int = 25):  \n",
    "  scores_with_context = []\n",
    "  context_size = 1000\n",
    "  reset(intervals=INTERVALS, weights=WEIGHTS)\n",
    "  storage = WindowingStorage(max_size=10000000)\n",
    "  model = DoiRegressionModel(storage, max_depth=max_depth)\n",
    "  for i in range(n_chunks):\n",
    "      # model is not yet trained at first chunk, so no context ...\n",
    "      if i == 0:\n",
    "        chunk_df, new_dois = get_next_progressive_result(storage)\n",
    "      # ... otherwise use context\n",
    "      else:\n",
    "        chunk_df, new_dois = get_next_progressive_result(\n",
    "          storage,\n",
    "          lambda: model.get_context_items(context_size)\n",
    "        )\n",
    "\n",
    "      if i % update_interval == 0:\n",
    "        model.update(chunk_df, new_dois)\n",
    "      scores_with_context += [model.score(chunk_df, new_dois)]\n",
    "\n",
    "  scores_without_context = []\n",
    "  reset(intervals=INTERVALS, weights=WEIGHTS)\n",
    "  storage = WindowingStorage(max_size=10000000)\n",
    "  model = DoiRegressionModel(storage, max_depth=max_depth)\n",
    "  for i in range(n_chunks):\n",
    "      chunk_df, new_dois = get_next_progressive_result(storage)\n",
    "      if i % update_interval == 0:\n",
    "        model.update(chunk_df, new_dois)\n",
    "      scores_without_context += [model.score(chunk_df, new_dois)]\n",
    "\n",
    "\n",
    "  scores = [scores_with_context, scores_without_context]\n",
    "\n",
    "  return pd.DataFrame(np.array(scores).T, columns=[\"context\", \"no context\"])\n",
    "\n",
    "# results: max_depth = 3 has best peformance, then no improvement/worse for bigger values\n",
    "max_depth_results = benchmark_max_depth()\n",
    "\n",
    "# results: trivial best results for 0 and 1, score std for 3-8 above 0.9 \n",
    "intervals_results = benchmark_retraining_intervals()\n",
    "\n",
    "# results: when including context items in the doi computation, scores drop.\n",
    "context_results = benchmark_context()"
   ]
  },
  {
   "attachments": {},
   "cell_type": "markdown",
   "metadata": {},
   "source": [
    "Plot the prediction scores of the regression model across varying `max_depth` parameters."
   ]
  },
  {
   "cell_type": "code",
   "execution_count": 8,
   "metadata": {},
   "outputs": [
    {
     "data": {
      "text/plain": [
       "<AxesSubplot:>"
      ]
     },
     "execution_count": 8,
     "metadata": {},
     "output_type": "execute_result"
    },
    {
     "data": {
      "image/png": "[encoded data removed]",
      "text/plain": [
       "<Figure size 432x288 with 1 Axes>"
      ]
     },
     "metadata": {
      "needs_background": "light"
     },
     "output_type": "display_data"
    }
   ],
   "source": [
    "context_results.boxplot()"
   ]
  }
 ],
 "metadata": {
  "kernelspec": {
   "display_name": "venv",
   "language": "python",
   "name": "python3"
  },
  "language_info": {
   "codemirror_mode": {
    "name": "ipython",
    "version": 3
   },
   "file_extension": ".py",
   "mimetype": "text/x-python",
   "name": "python",
   "nbconvert_exporter": "python",
   "pygments_lexer": "ipython3",
   "version": "3.8.1"
  },
  "orig_nbformat": 4,
  "vscode": {
   "interpreter": {
    "hash": "46092ee2eab2a2b22a3e3ce35717d01e098c5874b352c7dbdb7d6cf8b8036d88"
   }
  }
 },
 "nbformat": 4,
 "nbformat_minor": 2
}
