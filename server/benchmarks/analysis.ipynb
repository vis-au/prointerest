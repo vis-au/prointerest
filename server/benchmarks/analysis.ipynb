{
 "cells": [
  {
   "cell_type": "markdown",
   "metadata": {},
   "source": [
    "# Benchmark Analysis"
   ]
  },
  {
   "cell_type": "markdown",
   "metadata": {},
   "source": [
    "### Select a completed run file"
   ]
  },
  {
   "cell_type": "code",
   "execution_count": null,
   "metadata": {},
   "outputs": [],
   "source": [
    "import os\n",
    "from os.path import join\n",
    "from ipywidgets import widgets, HBox\n",
    "from IPython.display import display\n",
    "import notebook_test_case  # for fixing the PATH variable\n",
    "\n",
    "out_folder = \"./out/\"\n",
    "test_cases = [f for f in os.listdir(out_folder) if os.path.isfile(join(out_folder, f))]\n",
    "test_cases = [tc for tc in test_cases if \"composite\" in tc]\n",
    "\n",
    "if len(test_cases) == 0:\n",
    "  print(\"no test cases found.\")\n",
    "\n",
    "composite_test_case_dropdown = widgets.Dropdown(\n",
    "  description=\"test case:\",\n",
    "  options=test_cases,\n",
    "  disabled=len(test_cases) == 0,\n",
    "  style={\"description_width\": \"initial\"},\n",
    ")\n",
    "\n",
    "mode_dropdown = widgets.Dropdown(\n",
    "  description=\"mode:\",\n",
    "  options=[\"datasets\", \"strategies\", \"dois\", \"parameters\"],\n",
    "  style={\"description_width\": \"40px\"},\n",
    ")\n",
    "\n",
    "column_dropdown = widgets.Dropdown(\n",
    "  description=\"columns:\",\n",
    "  options=[\"context_strategy\", \"update_strategy\", \"storage_strategy\"],\n",
    "  style={\"description_width\": \"60px\"},\n",
    ")\n",
    "row_dropdown = widgets.Dropdown(\n",
    "  description=\"rows\",\n",
    "  options=[\"update_strategy\", \"context_strategy\", \"storage_strategy\"],\n",
    "  style={\"description_width\": \"30px\"},\n",
    ")\n",
    "\n",
    "HBox([composite_test_case_dropdown, mode_dropdown, column_dropdown, row_dropdown])"
   ]
  },
  {
   "cell_type": "markdown",
   "metadata": {},
   "source": [
    "### DOI histogram ground truth"
   ]
  },
  {
   "cell_type": "code",
   "execution_count": null,
   "metadata": {},
   "outputs": [],
   "source": [
    "import pandas as pd\n",
    "from notebook_test_case import *\n",
    "from analysis import collect_ground_truth_dfs\n",
    "from plots import histogram\n",
    "\n",
    "ground_truth_df = collect_ground_truth_dfs(\n",
    "  composite_test_case_dropdown.value, mode_dropdown.value\n",
    ")\n",
    "\n",
    "histogram(ground_truth_df, \"doi\")"
   ]
  },
  {
   "cell_type": "markdown",
   "metadata": {},
   "source": [
    "### Sample of the dataset under analysis"
   ]
  },
  {
   "cell_type": "code",
   "execution_count": null,
   "metadata": {},
   "outputs": [],
   "source": [
    "import pandas as pd\n",
    "from os.path import basename\n",
    "import json\n",
    "from notebook_test_case import *\n",
    "from analysis import collect_ground_truth_dfs\n",
    "\n",
    "ground_truth_df = collect_ground_truth_dfs(\n",
    "  composite_test_case_dropdown.value, \"datasets\"\n",
    ")\n",
    "\n",
    "datasets = ground_truth_df[\"datasets\"].unique().tolist()\n",
    "\n",
    "presets = json.load(open(\"presets.json\"))[\"datasets\"]\n",
    "for data_label in datasets:\n",
    "  path: str = presets[data_label][\"data_path\"]\n",
    "  if not path.endswith(\".csv\"):\n",
    "    print(\"not a CSV file, trying to load next...\")\n",
    "    continue\n",
    "  df = pd.read_csv(path)\n",
    "  print(df)\n",
    "\n",
    "print(\"done loading\")"
   ]
  },
  {
   "cell_type": "markdown",
   "metadata": {},
   "source": [
    "## Analyze DOI error"
   ]
  },
  {
   "cell_type": "markdown",
   "metadata": {},
   "source": [
    "### DOI distribution for all strategies compared to bigger chunks"
   ]
  },
  {
   "cell_type": "code",
   "execution_count": null,
   "metadata": {},
   "outputs": [],
   "source": [
    "from test_case import get_full_title\n",
    "from analysis import get_error_for_test_case, merge_err_dfs\n",
    "from plots import histogram_matrix\n",
    "\n",
    "if composite_test_case_dropdown.value is None or mode_dropdown.value is None:\n",
    "  raise Exception(\"select a test case and mode with the widget above\")\n",
    "\n",
    "mode = mode_dropdown.value\n",
    "all_strategies_error, all_bc_errors, _ = get_error_for_test_case(\n",
    "  test_case_file_name=composite_test_case_dropdown.value, \n",
    "  mode=mode\n",
    ")\n",
    "df = merge_err_dfs(all_strategies_error, all_bc_errors, mode=mode)\n",
    "\n",
    "column = column_dropdown.value\n",
    "row = row_dropdown.value\n",
    "\n",
    "hm = histogram_matrix(df=df, row=row, x=\"doi\", column=column, hue=\"type\")\n",
    "hm.fig.suptitle(\"DOI distribution strategies vs. bigger chunks\")"
   ]
  },
  {
   "cell_type": "markdown",
   "metadata": {},
   "source": [
    "### DOI distributions for all combinations compared to using no strategies"
   ]
  },
  {
   "cell_type": "code",
   "execution_count": null,
   "metadata": {},
   "outputs": [],
   "source": [
    "import notebook_test_case  # for fixing the PATH variable\n",
    "from test_case import get_full_title\n",
    "from analysis import get_error_for_test_case, merge_err_dfs\n",
    "from plots import histogram_matrix\n",
    "\n",
    "if composite_test_case_dropdown.value is None or mode_dropdown.value is None:\n",
    "  raise Exception(\"select a test case and mode with the widget above\")\n",
    "\n",
    "mode = mode_dropdown.value\n",
    "all_strategies_error, _, all_sc_errors = get_error_for_test_case(\n",
    "  test_case_file_name=composite_test_case_dropdown.value, \n",
    "  mode=mode\n",
    ")\n",
    "df = merge_err_dfs(all_strategies_error, all_sc_errors, mode=mode)\n",
    "\n",
    "column = column_dropdown.value\n",
    "row = row_dropdown.value\n",
    "\n",
    "hm = histogram_matrix(df=df, row=row, x=\"doi\", column=column, hue=\"type\")\n",
    "hm.fig.suptitle(\"DOI distribution strategies vs. no strategies\")"
   ]
  },
  {
   "cell_type": "markdown",
   "metadata": {},
   "source": [
    "### Error for all combinations in a grid"
   ]
  },
  {
   "cell_type": "code",
   "execution_count": null,
   "metadata": {},
   "outputs": [],
   "source": [
    "import notebook_test_case  # for fixing the PATH variable\n",
    "from test_case import get_full_title\n",
    "from analysis import get_error_for_test_case, merge_err_dfs\n",
    "from plots import boxplot_matrix\n",
    "\n",
    "if composite_test_case_dropdown.value is None or mode_dropdown.value is None:\n",
    "  raise Exception(\"select a test case and mode with the widget above\")\n",
    "\n",
    "mode = mode_dropdown.value\n",
    "all_strategies_error, all_bigger_chunks_error, all_sc_errors = get_error_for_test_case(\n",
    "  test_case_file_name=composite_test_case_dropdown.value, \n",
    "  mode=mode\n",
    ")\n",
    "df = merge_err_dfs(all_strategies_error, all_bigger_chunks_error, mode, all_sc_errors)\n",
    "\n",
    "column = column_dropdown.value\n",
    "row = row_dropdown.value\n",
    "\n",
    "m = boxplot_matrix(df, x=mode, y=\"doi\", row=row, column=column, hue=\"type\")\n",
    "m.fig.suptitle(\"DOI error strategies vs. bigger chunks vs. no strategies\")"
   ]
  },
  {
   "cell_type": "markdown",
   "metadata": {},
   "source": [
    "### Error aggregated across strategies"
   ]
  },
  {
   "cell_type": "code",
   "execution_count": null,
   "metadata": {},
   "outputs": [],
   "source": [
    "import seaborn as sns\n",
    "import notebook_test_case  # for fixing the PATH variable\n",
    "from test_case import get_full_title\n",
    "from analysis import get_error_for_test_case, merge_err_dfs\n",
    "from plots import boxplot\n",
    "\n",
    "if composite_test_case_dropdown.value is None or mode_dropdown.value is None:\n",
    "  raise Exception(\"select a test case and mode with the widget above\")\n",
    "\n",
    "mode = mode_dropdown.value\n",
    "all_strategies_error, all_bigger_chunks_error, all_sc_error = get_error_for_test_case(\n",
    "  test_case_file_name=composite_test_case_dropdown.value, \n",
    "  mode=mode\n",
    ")\n",
    "df = merge_err_dfs(all_strategies_error, all_bigger_chunks_error, sc_err_df=all_sc_error, mode=mode)\n",
    "\n",
    "column = column_dropdown.value\n",
    "row = row_dropdown.value\n",
    "\n",
    "context_plot = boxplot(df=df, x=\"context_strategy\", y=\"doi\", hue=\"type\")\n",
    "context_plot.fig.suptitle(\"Error per context strategy\")\n",
    "update_plot = boxplot(df=df, x=\"update_strategy\", y=\"doi\", hue=\"type\")\n",
    "update_plot.fig.suptitle(\"Error per update strategy\")\n",
    "context_plot, update_plot"
   ]
  },
  {
   "cell_type": "markdown",
   "metadata": {},
   "source": [
    "### Error aggregated across 'mode'"
   ]
  },
  {
   "cell_type": "code",
   "execution_count": null,
   "metadata": {},
   "outputs": [],
   "source": [
    "import seaborn as sns\n",
    "import notebook_test_case  # for fixing the PATH variable\n",
    "from test_case import get_full_title\n",
    "from analysis import get_error_for_test_case, merge_err_dfs\n",
    "from plots import boxplot\n",
    "\n",
    "if composite_test_case_dropdown.value is None or mode_dropdown.value is None:\n",
    "  raise Exception(\"select a test case and mode with the widget above\")\n",
    "\n",
    "mode = mode_dropdown.value\n",
    "all_strategies_error, all_bigger_chunks_error, _ = get_error_for_test_case(\n",
    "  test_case_file_name=composite_test_case_dropdown.value, \n",
    "  mode=mode\n",
    ")\n",
    "df = merge_err_dfs(all_strategies_error, all_bigger_chunks_error, mode=mode)\n",
    "\n",
    "column = column_dropdown.value\n",
    "row = row_dropdown.value\n",
    "\n",
    "boxplot(df=df, x=mode, y=\"doi\", hue=\"type\").fig.suptitle(f\"Error across {mode}\")"
   ]
  },
  {
   "cell_type": "markdown",
   "metadata": {},
   "source": [
    "## Analyze Runtime"
   ]
  },
  {
   "cell_type": "markdown",
   "metadata": {},
   "source": [
    "### Runtime strategies vs. bigger chunks vs. no strategies"
   ]
  },
  {
   "cell_type": "code",
   "execution_count": null,
   "metadata": {},
   "outputs": [],
   "source": [
    "import seaborn as sns\n",
    "import notebook_test_case  # for fixing the PATH variable\n",
    "from test_case import get_full_title\n",
    "from analysis import get_times_for_test_case, merge_time_dfs\n",
    "\n",
    "if composite_test_case_dropdown.value is None or mode_dropdown.value is None:\n",
    "  raise Exception(\"select a test case and mode with the widget above\")\n",
    "\n",
    "mode = mode_dropdown.value\n",
    "all_strategies_times, all_bigger_chunks_times, all_no_strategies_times = get_times_for_test_case(\n",
    "  test_case_file_name=composite_test_case_dropdown.value, \n",
    "  mode=mode\n",
    ")\n",
    "\n",
    "df = merge_time_dfs(all_strategies_times, all_bigger_chunks_times, all_no_strategies_times, mode)\n",
    "\n",
    "sns.lineplot(data=df, x=\"step\", y=\"step_time\", hue=\"type\", style=\"type\")"
   ]
  },
  {
   "cell_type": "markdown",
   "metadata": {},
   "source": [
    "### Runtime per component "
   ]
  },
  {
   "cell_type": "code",
   "execution_count": null,
   "metadata": {},
   "outputs": [],
   "source": [
    "import seaborn as sns\n",
    "from matplotlib import pyplot as plt\n",
    "import notebook_test_case  # for fixing the PATH variable\n",
    "from test_case import get_full_title\n",
    "from analysis import get_times_for_test_case, merge_time_dfs\n",
    "\n",
    "if composite_test_case_dropdown.value is None or mode_dropdown.value is None:\n",
    "  raise Exception(\"select a test case and mode with the widget above\")\n",
    "\n",
    "mode = mode_dropdown.value\n",
    "df, _, _ = get_times_for_test_case(\n",
    "  test_case_file_name=composite_test_case_dropdown.value, \n",
    "  mode=mode\n",
    ")\n",
    "\n",
    "fig, (ax1, ax2) = plt.subplots(ncols=2, sharey=True, sharex=True)\n",
    "fig.set_figwidth(16)\n",
    "fig.set_figheight(5)\n",
    "\n",
    "df.drop(columns=[\"context_strategy\", \"update_strategy\", \"storage_strategy\"], inplace=True)\n",
    "df = df.melt([\"step\"])\n",
    "sns.lineplot(\n",
    "  data=df[df[\"step\"] % 5 == 0], x=\"step\", y=\"value\", hue=\"variable\", style=\"variable\", ax=ax1\n",
    ")\n",
    "sns.lineplot(\n",
    "  data=df[df[\"step\"] % 5 != 0], x=\"step\", y=\"value\", hue=\"variable\", style=\"variable\", ax=ax2\n",
    ")"
   ]
  },
  {
   "cell_type": "markdown",
   "metadata": {},
   "source": [
    "### Runtime per test case vs. bigger chunks"
   ]
  },
  {
   "cell_type": "code",
   "execution_count": null,
   "metadata": {},
   "outputs": [],
   "source": [
    "import seaborn as sns\n",
    "import notebook_test_case  # for fixing the PATH variable\n",
    "from test_case import get_full_title\n",
    "from analysis import get_times_for_test_case, merge_time_dfs\n",
    "\n",
    "if composite_test_case_dropdown.value is None or mode_dropdown.value is None:\n",
    "  raise Exception(\"select a test case and mode with the widget above\")\n",
    "\n",
    "mode = mode_dropdown.value\n",
    "all_strategies_times, all_bigger_chunks_times, all_no_strategies_times = get_times_for_test_case(\n",
    "  test_case_file_name=composite_test_case_dropdown.value, \n",
    "  mode=mode\n",
    ")\n",
    "\n",
    "df = merge_time_dfs(all_strategies_times, all_bigger_chunks_times, all_no_strategies_times, mode)\n",
    "\n",
    "sns.relplot(\n",
    "  data=df, \n",
    "  x=\"step\", \n",
    "  y=\"step_time\", \n",
    "  hue=\"type\", \n",
    "  style=\"type\",\n",
    "  col=\"context_strategy\", \n",
    "  row=\"update_strategy\", \n",
    "  kind=\"line\",\n",
    ").set_titles(\"cont:{col_name} --- upd:{row_name}\")"
   ]
  },
  {
   "cell_type": "markdown",
   "metadata": {},
   "source": [
    "### Summarized Runtime per strategy vs. bigger chunks vs. no strategies"
   ]
  },
  {
   "cell_type": "code",
   "execution_count": null,
   "metadata": {},
   "outputs": [],
   "source": [
    "import seaborn as sns\n",
    "import notebook_test_case  # for fixing the PATH variable\n",
    "from test_case import get_full_title\n",
    "from plots import boxplot_matrix\n",
    "from analysis import get_times_for_test_case, merge_time_dfs\n",
    "\n",
    "if composite_test_case_dropdown.value is None or mode_dropdown.value is None:\n",
    "  raise Exception(\"select a test case and mode with the widget above\")\n",
    "\n",
    "mode = mode_dropdown.value\n",
    "all_strategies_times, all_bigger_chunks_times, all_no_strategies_times = get_times_for_test_case(\n",
    "  test_case_file_name=composite_test_case_dropdown.value, \n",
    "  mode=mode\n",
    ")\n",
    "\n",
    "df = merge_time_dfs(all_strategies_times, all_bigger_chunks_times, all_no_strategies_times, mode)\n",
    "\n",
    "m = boxplot_matrix(df, x=mode, y=\"step_time\", row=row_dropdown.value, column=column_dropdown.value, hue=\"type\")\n",
    "m.fig.suptitle(\"DOI error strategies vs. bigger chunks vs. no strategies\")"
   ]
  },
  {
   "cell_type": "markdown",
   "metadata": {},
   "source": [
    "### Runtime per 'mode'"
   ]
  },
  {
   "cell_type": "code",
   "execution_count": null,
   "metadata": {},
   "outputs": [],
   "source": [
    "import seaborn as sns\n",
    "import notebook_test_case  # for fixing the PATH variable\n",
    "from test_case import get_full_title\n",
    "from analysis import get_times_for_test_case, merge_time_dfs\n",
    "\n",
    "if composite_test_case_dropdown.value is None or mode_dropdown.value is None:\n",
    "  raise Exception(\"select a test case and mode with the widget above\")\n",
    "\n",
    "mode = mode_dropdown.value\n",
    "all_strategies_times, all_bigger_chunks_times, all_no_strategies_times = get_times_for_test_case(\n",
    "  test_case_file_name=composite_test_case_dropdown.value, \n",
    "  mode=mode\n",
    ")\n",
    "df = merge_time_dfs(all_strategies_times, all_bigger_chunks_times, all_no_strategies_times, mode)\n",
    "sns.relplot(\n",
    "  data=df, \n",
    "  x=\"step\", \n",
    "  y=\"step_time\", \n",
    "  hue=\"type\", \n",
    "  style=\"type\",\n",
    "  col=mode, \n",
    "  kind=\"line\",\n",
    ").set_titles(\"{col_name}\")"
   ]
  }
 ],
 "metadata": {
  "interpreter": {
   "hash": "63fd5069d213b44bf678585dea6b12cceca9941eaf7f819626cde1f2670de90d"
  },
  "kernelspec": {
   "display_name": "Python 3.9.4 64-bit",
   "language": "python",
   "name": "python3"
  },
  "language_info": {
   "codemirror_mode": {
    "name": "ipython",
    "version": 3
   },
   "file_extension": ".py",
   "mimetype": "text/x-python",
   "name": "python",
   "nbconvert_exporter": "python",
   "pygments_lexer": "ipython3",
   "version": "3.9.4"
  },
  "orig_nbformat": 4
 },
 "nbformat": 4,
 "nbformat_minor": 2
}
