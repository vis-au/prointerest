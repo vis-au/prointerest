{
 "cells": [
  {
   "cell_type": "markdown",
   "metadata": {},
   "source": [
    "# Benchmarks of Strategies for Selecting Outdated Items\n",
    "This notebook contains the benchmarks related to the selection strategies for outdated data, which we report in our paper.\n",
    "Outdated data are those elements of the processed data, which have \"aged\" since they were last computed, i.e., they may no longer be valid and need to be updated.\n",
    "\n",
    "## Benchmark Configuration\n",
    "\n",
    "We use the following configuration in our benchmarks:\n",
    "### Test cases \n",
    "- full computation over the entire dataset (upper baseline)\n",
    "- progressive computation without optimization (lower baseline)\n",
    "- full computation of processed data\n",
    "- progressive computation using optimization strategies\n",
    "\n",
    "### Dataset\n",
    "- NYC taxis dataset (10 Million items), stored in a compressed CSV file, loaded with DuckDB \n",
    "\n",
    "### Variables\n",
    "- dependent variables: runtime, prediction error\n",
    "- independent variables: "
   ]
  },
  {
   "cell_type": "markdown",
   "metadata": {},
   "source": [
    "## Setup"
   ]
  },
  {
   "cell_type": "code",
   "execution_count": 1,
   "metadata": {},
   "outputs": [],
   "source": [
    "import os\n",
    "from sys import path\n",
    "cwd = os.getcwd()\n",
    "path.append(f\"{cwd}/..\")"
   ]
  },
  {
   "cell_type": "markdown",
   "metadata": {},
   "source": [
    "## Benchmarks"
   ]
  },
  {
   "cell_type": "code",
   "execution_count": 2,
   "metadata": {},
   "outputs": [],
   "source": [
    "from outdated_item_selection_strategy.no_update import *\n",
    "from outdated_item_selection_strategy.oldest_chunks_update import *\n",
    "from outdated_item_selection_strategy.last_n_chunks_update import *\n",
    "from outdated_item_selection_strategy.regular_interval_update import *\n",
    "from outdated_item_selection_strategy.outdated_bin_update import *\n",
    "\n",
    "n_dims = 17\n",
    "\n",
    "strategies = [\n",
    "  (\"no chunk\", NoUpdate(n_dims=n_dims)),\n",
    "  (\"oldest n chunks\", OldestChunksUpdate(n_dims=n_dims, n_chunks=3, max_age=10)),\n",
    "  (\"last n chunks\", LastNChunksUpdate(n_dims=n_dims, n_chunks=3)),\n",
    "  (\"regular intervals\", RegularIntervalUpdate(n_dims=n_dims,interval=2, max_age=10)),\n",
    "  (\"outdated bins\", OutdatedBinUpdate(n_dims=n_dims))\n",
    "]"
   ]
  },
  {
   "cell_type": "code",
   "execution_count": 3,
   "metadata": {},
   "outputs": [
    {
     "name": "stdout",
     "output_type": "stream",
     "text": [
      "initialization took 0.118682861328125\n",
      "loading the data in chunks took 1.7711987495422363\n"
     ]
    }
   ],
   "source": [
    "from database import get_next_chunk_from_db, initialize_db, drop_tables\n",
    "import time\n",
    "chunks = 15\n",
    "chunk_size = 100\n",
    "\n",
    "start = time.time()\n",
    "drop_tables()\n",
    "initialize_db(\"../data/nyc_taxis_sampled100k_shuffled.csv.gz\")\n",
    "print(\"initialization took\", time.time() - start)\n",
    "\n",
    "s = time.time()\n",
    "for i in range(chunks):\n",
    "  chunk = get_next_chunk_from_db(chunk_size)\n",
    "print(\"loading the data in chunks took\", time.time() - s)\n"
   ]
  },
  {
   "cell_type": "code",
   "execution_count": 4,
   "metadata": {},
   "outputs": [
    {
     "name": "stdout",
     "output_type": "stream",
     "text": [
      "# no chunk\n",
      "found 0 outdated items:\n",
      "[]\n",
      "0.000997781753540039\n",
      "\n",
      "\n",
      "# oldest n chunks\n",
      "oldest chunk is 0\n",
      "found 100 outdated items:\n",
      "[[31852922 2 Timestamp('2018-07-18 06:17:11') ... 0.0 0.3 9.96]\n",
      " [16785706 2 Timestamp('2018-01-09 02:35:11') ... 10.5 0.3 76.62]\n",
      " [66379394 2 Timestamp('2018-11-24 17:07:34') ... 0.0 0.3 6.8]\n",
      " ...\n",
      " [52000532 2 Timestamp('2018-10-03 18:05:25') ... 0.0 0.3 11.8]\n",
      " [4868680 1 Timestamp('2018-05-26 16:58:54') ... 0.0 0.3 9.95]\n",
      " [33632368 2 Timestamp('2018-07-24 21:37:31') ... 0.0 0.3 20.47]]\n",
      "0.2972254753112793\n",
      "\n",
      "\n",
      "# last n chunks\n",
      "getting from processed took 0.0009975433349609375\n",
      "15 3\n",
      "found 300 outdated items:\n",
      "[[21012485 2 Timestamp('2018-01-23 15:50:50') ... 0.0 0.3 20.76]\n",
      " [31709419 1 Timestamp('2018-07-17 15:14:44') ... 0.0 0.3 17.3]\n",
      " [5437981 2 Timestamp('2018-05-29 11:36:59') ... 0.0 0.3 10.56]\n",
      " ...\n",
      " [31466697 2 Timestamp('2018-07-16 18:06:22') ... 0.0 0.3 7.82]\n",
      " [73877432 2 Timestamp('2018-12-20 20:35:12') ... 0.0 0.3 15.96]\n",
      " [61365300 1 Timestamp('2018-11-05 18:49:57') ... 0.0 0.3 23.92]]\n",
      "0.2563180923461914\n",
      "\n",
      "\n",
      "# regular intervals\n",
      "found 100 outdated items:\n",
      "[[31852922 2 Timestamp('2018-07-18 06:17:11') ... 0.0 0.3 9.96]\n",
      " [16785706 2 Timestamp('2018-01-09 02:35:11') ... 10.5 0.3 76.62]\n",
      " [66379394 2 Timestamp('2018-11-24 17:07:34') ... 0.0 0.3 6.8]\n",
      " ...\n",
      " [52000532 2 Timestamp('2018-10-03 18:05:25') ... 0.0 0.3 11.8]\n",
      " [4868680 1 Timestamp('2018-05-26 16:58:54') ... 0.0 0.3 9.95]\n",
      " [33632368 2 Timestamp('2018-07-24 21:37:31') ... 0.0 0.3 20.47]]\n",
      "0.25734901428222656\n",
      "\n",
      "\n",
      "# outdated bins\n",
      "found 0 outdated items:\n",
      "[]\n",
      "0.0\n",
      "\n",
      "\n"
     ]
    }
   ],
   "source": [
    "current_chunk = chunks\n",
    "for i, strategy in enumerate(strategies):\n",
    "  start = time.time()\n",
    "  print(\"#\", strategy[0])\n",
    "  outdated_items = strategy[1].get_outdated_items(current_chunk)\n",
    "  print(f\"found {len(outdated_items)} outdated items:\")\n",
    "  print(outdated_items)\n",
    "  print(time.time() - start)\n",
    "  print(\"\\n\")"
   ]
  }
 ],
 "metadata": {
  "interpreter": {
   "hash": "63fd5069d213b44bf678585dea6b12cceca9941eaf7f819626cde1f2670de90d"
  },
  "kernelspec": {
   "display_name": "Python 3.9.4 64-bit",
   "name": "python3"
  },
  "language_info": {
   "codemirror_mode": {
    "name": "ipython",
    "version": 3
   },
   "file_extension": ".py",
   "mimetype": "text/x-python",
   "name": "python",
   "nbconvert_exporter": "python",
   "pygments_lexer": "ipython3",
   "version": "3.9.4"
  },
  "orig_nbformat": 4
 },
 "nbformat": 4,
 "nbformat_minor": 2
}
